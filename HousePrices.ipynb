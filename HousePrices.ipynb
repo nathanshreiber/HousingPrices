{
  "nbformat": 4,
  "nbformat_minor": 0,
  "metadata": {
    "colab": {
      "name": "HousePrices.ipynb",
      "provenance": [],
      "collapsed_sections": []
    },
    "kernelspec": {
      "name": "python3",
      "display_name": "Python 3"
    }
  },
  "cells": [
    {
      "cell_type": "code",
      "metadata": {
        "colab": {
          "base_uri": "https://localhost:8080/",
          "height": 740
        },
        "id": "2i6tldiVoz4h",
        "outputId": "18cc2f7d-5ee3-4442-9844-edcfab86c3a4"
      },
      "source": [
        "import pandas as pd\r\n",
        "import numpy as np\r\n",
        "import seaborn as sns\r\n",
        "import matplotlib\r\n",
        "import plotly.express as px\r\n",
        "import matplotlib.pyplot as plt\r\n",
        "from scipy.stats import skew\r\n",
        "from scipy.stats.stats import pearsonr\r\n",
        "from sklearn.decomposition import PCA\r\n",
        "from numpy import loadtxt\r\n",
        "from xgboost import XGBClassifier\r\n",
        "from sklearn.datasets import make_friedman1\r\n",
        "from sklearn.feature_selection import RFECV\r\n",
        "from sklearn.svm import SVR\r\n",
        "from sklearn.linear_model import LinearRegression\r\n",
        "from xgboost import XGBRegressor\r\n",
        "from sklearn.ensemble import RandomForestRegressor\r\n",
        "from sklearn.datasets import make_regression\r\n",
        "from sklearn import linear_model\r\n",
        "from sklearn.pipeline import make_pipeline\r\n",
        "from sklearn.preprocessing import StandardScaler\r\n",
        "\r\n",
        "#______________________________________________________________________________________________\r\n",
        "#Read test and train files, create dataframes to hold dependent and independent variables\r\n",
        "\r\n",
        "#read in train and test data\r\n",
        "train = pd.read_csv(\"train.csv\")\r\n",
        "test = pd.read_csv(\"test.csv\")\r\n",
        "\r\n",
        "#used to view dataframes\r\n",
        "#train.head()\r\n",
        "#test.head()\r\n",
        "\r\n",
        "#get a list of column names from train\r\n",
        "original_features = []\r\n",
        "for i in train.columns:\r\n",
        "  original_features.append(i)\r\n",
        "\r\n",
        "#fill null values with 0\r\n",
        "train.fillna(0, inplace = True)\r\n",
        "test.fillna(0,inplace = True)\r\n",
        "\r\n",
        "#set train_x to quantitative variables of train dataset\r\n",
        "train_x = train.loc[:, ('MSSubClass','LotFrontage','LotArea','OverallQual','OverallCond','YearBuilt','YearRemodAdd','MasVnrArea','BsmtFinSF1','BsmtUnfSF','TotalBsmtSF',\r\n",
        "                '1stFlrSF','2ndFlrSF','GrLivArea','BsmtFullBath','BsmtHalfBath','FullBath','HalfBath','BedroomAbvGr','KitchenAbvGr','TotRmsAbvGrd','Fireplaces',\r\n",
        "                'GarageYrBlt','GarageCars','GarageArea','WoodDeckSF','OpenPorchSF','EnclosedPorch','YrSold','MoSold')]\r\n",
        "\r\n",
        "#set train_y = to sale price data\r\n",
        "train_y = train.loc[:, ('SalePrice')]\r\n",
        "\r\n",
        "#set test_x to test data\r\n",
        "test_x = test.loc[:, ('MSSubClass','LotFrontage','LotArea','OverallQual','OverallCond','YearBuilt','YearRemodAdd','MasVnrArea','BsmtFinSF1','BsmtUnfSF','TotalBsmtSF',\r\n",
        "                '1stFlrSF','2ndFlrSF','GrLivArea','BsmtFullBath','BsmtHalfBath','FullBath','HalfBath','BedroomAbvGr','KitchenAbvGr','TotRmsAbvGrd','Fireplaces',\r\n",
        "                'GarageYrBlt','GarageCars','GarageArea','WoodDeckSF','OpenPorchSF','EnclosedPorch','YrSold','MoSold')]\r\n",
        "\r\n",
        "#______________________________________________________________________________________________\r\n",
        "#This section runs a principle component analysis to select features that contribute the most to the variance of SalesPrice\r\n",
        "\r\n",
        "\r\n",
        "#get a list of column names from train\r\n",
        "original_features = []\r\n",
        "for i in train.columns:\r\n",
        "  original_features.append(i)\r\n",
        "\r\n",
        "#create list of feature names\r\n",
        "initial_feature_names = []\r\n",
        "for col in train_x.columns:\r\n",
        "  initial_feature_names.append(col)\r\n",
        "print(initial_feature_names)\r\n",
        "\r\n",
        "#run pca\r\n",
        "pca = PCA(n_components=len(train_x.columns))\r\n",
        "pca.fit(train_x,train_y)\r\n",
        "\r\n",
        "#get number of components and most important components\r\n",
        "n_pcs = pca.components_.shape[0]\r\n",
        "most_important = [np.abs(pca.components_[i]).argmax() for i in range(n_pcs)]\r\n",
        "\r\n",
        "#list of names in order of variance explained\r\n",
        "most_important_names = [initial_feature_names[most_important[i]] for i in range(n_pcs)]\r\n",
        "print(most_important_names)\r\n",
        "\r\n",
        "#list of variances\r\n",
        "variances = pca.explained_variance_ratio_\r\n",
        "print(variances)\r\n",
        "\r\n",
        "#graph\r\n",
        "exp_var_cumul = np.cumsum(pca.explained_variance_ratio_)\r\n",
        "\r\n",
        "px.area(\r\n",
        "    x = range(1, exp_var_cumul.shape[0] + 1),\r\n",
        "    y = exp_var_cumul,\r\n",
        "    labels={\"x\": \"# Components\", \"y\": \"Explained Variance\"}\r\n",
        ")\r\n",
        "\r\n",
        "#______________________________________________________________________________________________\r\n",
        "\r\n"
      ],
      "execution_count": 20,
      "outputs": [
        {
          "output_type": "stream",
          "text": [
            "['MSSubClass', 'LotFrontage', 'LotArea', 'OverallQual', 'OverallCond', 'YearBuilt', 'YearRemodAdd', 'MasVnrArea', 'BsmtFinSF1', 'BsmtUnfSF', 'TotalBsmtSF', '1stFlrSF', '2ndFlrSF', 'GrLivArea', 'BsmtFullBath', 'BsmtHalfBath', 'FullBath', 'HalfBath', 'BedroomAbvGr', 'KitchenAbvGr', 'TotRmsAbvGrd', 'Fireplaces', 'GarageYrBlt', 'GarageCars', 'GarageArea', 'WoodDeckSF', 'OpenPorchSF', 'EnclosedPorch', 'YrSold', 'MoSold']\n",
            "['LotArea', 'GrLivArea', '2ndFlrSF', 'BsmtUnfSF', 'GarageYrBlt', '1stFlrSF', 'MasVnrArea', 'GarageArea', 'WoodDeckSF', 'TotalBsmtSF', 'OpenPorchSF', 'EnclosedPorch', 'MSSubClass', 'LotFrontage', '1stFlrSF', 'YearBuilt', 'YearRemodAdd', 'MoSold', 'YrSold', 'TotRmsAbvGrd', 'OverallCond', 'OverallQual', 'Fireplaces', 'BedroomAbvGr', 'HalfBath', 'BsmtFullBath', 'GarageCars', 'FullBath', 'BsmtHalfBath', 'KitchenAbvGr']\n",
            "[9.85517857e-01 5.09407248e-03 3.39083240e-03 2.77565235e-03\n",
            " 1.97025539e-03 4.68762214e-04 2.65873368e-04 1.83663885e-04\n",
            " 1.39819643e-04 7.88444439e-05 4.02539281e-05 3.28893446e-05\n",
            " 1.59660957e-05 9.61871655e-06 7.78435672e-06 5.70414930e-06\n",
            " 2.02651879e-06 7.19863219e-08 1.67594994e-08 9.39918493e-09\n",
            " 8.60043383e-09 6.23291801e-09 2.86823468e-09 2.42284027e-09\n",
            " 1.75496353e-09 1.40019658e-09 9.86955354e-10 7.52461873e-10\n",
            " 4.58360946e-10 2.95140649e-10]\n"
          ],
          "name": "stdout"
        },
        {
          "output_type": "display_data",
          "data": {
            "text/html": [
              "<html>\n",
              "<head><meta charset=\"utf-8\" /></head>\n",
              "<body>\n",
              "    <div>\n",
              "            <script src=\"https://cdnjs.cloudflare.com/ajax/libs/mathjax/2.7.5/MathJax.js?config=TeX-AMS-MML_SVG\"></script><script type=\"text/javascript\">if (window.MathJax) {MathJax.Hub.Config({SVG: {font: \"STIX-Web\"}});}</script>\n",
              "                <script type=\"text/javascript\">window.PlotlyConfig = {MathJaxConfig: 'local'};</script>\n",
              "        <script src=\"https://cdn.plot.ly/plotly-latest.min.js\"></script>    \n",
              "            <div id=\"02bb3bd3-48bc-4969-bc7f-e8448932fed5\" class=\"plotly-graph-div\" style=\"height:525px; width:100%;\"></div>\n",
              "            <script type=\"text/javascript\">\n",
              "                \n",
              "                    window.PLOTLYENV=window.PLOTLYENV || {};\n",
              "                    \n",
              "                if (document.getElementById(\"02bb3bd3-48bc-4969-bc7f-e8448932fed5\")) {\n",
              "                    Plotly.newPlot(\n",
              "                        '02bb3bd3-48bc-4969-bc7f-e8448932fed5',\n",
              "                        [{\"hoverlabel\": {\"namelength\": 0}, \"hovertemplate\": \"# Components=%{x}<br>Explained Variance=%{y}\", \"legendgroup\": \"\", \"line\": {\"color\": \"#636efa\"}, \"mode\": \"lines\", \"name\": \"\", \"orientation\": \"v\", \"showlegend\": false, \"stackgroup\": \"1\", \"type\": \"scatter\", \"x\": [1, 2, 3, 4, 5, 6, 7, 8, 9, 10, 11, 12, 13, 14, 15, 16, 17, 18, 19, 20, 21, 22, 23, 24, 25, 26, 27, 28, 29, 30], \"xaxis\": \"x\", \"y\": [0.985517856791992, 0.9906119292709903, 0.994002761675719, 0.9967784140272709, 0.9987486694176247, 0.9992174316321067, 0.9994833050003337, 0.9996669688853715, 0.9998067885288529, 0.9998856329727357, 0.9999258869008572, 0.9999587762454142, 0.9999747423411222, 0.9999843610576759, 0.9999921454143964, 0.9999978495636942, 0.9999998760824882, 0.9999999480688101, 0.9999999648283096, 0.9999999742274944, 0.9999999828279282, 0.9999999890608462, 0.9999999919290808, 0.9999999943519211, 0.9999999961068846, 0.9999999975070812, 0.9999999984940366, 0.9999999992464985, 0.9999999997048594, 1.0], \"yaxis\": \"y\"}],\n",
              "                        {\"legend\": {\"tracegroupgap\": 0}, \"margin\": {\"t\": 60}, \"template\": {\"data\": {\"bar\": [{\"error_x\": {\"color\": \"#2a3f5f\"}, \"error_y\": {\"color\": \"#2a3f5f\"}, \"marker\": {\"line\": {\"color\": \"#E5ECF6\", \"width\": 0.5}}, \"type\": \"bar\"}], \"barpolar\": [{\"marker\": {\"line\": {\"color\": \"#E5ECF6\", \"width\": 0.5}}, \"type\": \"barpolar\"}], \"carpet\": [{\"aaxis\": {\"endlinecolor\": \"#2a3f5f\", \"gridcolor\": \"white\", \"linecolor\": \"white\", \"minorgridcolor\": \"white\", \"startlinecolor\": \"#2a3f5f\"}, \"baxis\": {\"endlinecolor\": \"#2a3f5f\", \"gridcolor\": \"white\", \"linecolor\": \"white\", \"minorgridcolor\": \"white\", \"startlinecolor\": \"#2a3f5f\"}, \"type\": \"carpet\"}], \"choropleth\": [{\"colorbar\": {\"outlinewidth\": 0, \"ticks\": \"\"}, \"type\": \"choropleth\"}], \"contour\": [{\"colorbar\": {\"outlinewidth\": 0, \"ticks\": \"\"}, \"colorscale\": [[0.0, \"#0d0887\"], [0.1111111111111111, \"#46039f\"], [0.2222222222222222, \"#7201a8\"], [0.3333333333333333, \"#9c179e\"], [0.4444444444444444, \"#bd3786\"], [0.5555555555555556, \"#d8576b\"], [0.6666666666666666, \"#ed7953\"], [0.7777777777777778, \"#fb9f3a\"], [0.8888888888888888, \"#fdca26\"], [1.0, \"#f0f921\"]], \"type\": \"contour\"}], \"contourcarpet\": [{\"colorbar\": {\"outlinewidth\": 0, \"ticks\": \"\"}, \"type\": \"contourcarpet\"}], \"heatmap\": [{\"colorbar\": {\"outlinewidth\": 0, \"ticks\": \"\"}, \"colorscale\": [[0.0, \"#0d0887\"], [0.1111111111111111, \"#46039f\"], [0.2222222222222222, \"#7201a8\"], [0.3333333333333333, \"#9c179e\"], [0.4444444444444444, \"#bd3786\"], [0.5555555555555556, \"#d8576b\"], [0.6666666666666666, \"#ed7953\"], [0.7777777777777778, \"#fb9f3a\"], [0.8888888888888888, \"#fdca26\"], [1.0, \"#f0f921\"]], \"type\": \"heatmap\"}], \"heatmapgl\": [{\"colorbar\": {\"outlinewidth\": 0, \"ticks\": \"\"}, \"colorscale\": [[0.0, \"#0d0887\"], [0.1111111111111111, \"#46039f\"], [0.2222222222222222, \"#7201a8\"], [0.3333333333333333, \"#9c179e\"], [0.4444444444444444, \"#bd3786\"], [0.5555555555555556, \"#d8576b\"], [0.6666666666666666, \"#ed7953\"], [0.7777777777777778, \"#fb9f3a\"], [0.8888888888888888, \"#fdca26\"], [1.0, \"#f0f921\"]], \"type\": \"heatmapgl\"}], \"histogram\": [{\"marker\": {\"colorbar\": {\"outlinewidth\": 0, \"ticks\": \"\"}}, \"type\": \"histogram\"}], \"histogram2d\": [{\"colorbar\": {\"outlinewidth\": 0, \"ticks\": \"\"}, \"colorscale\": [[0.0, \"#0d0887\"], [0.1111111111111111, \"#46039f\"], [0.2222222222222222, \"#7201a8\"], [0.3333333333333333, \"#9c179e\"], [0.4444444444444444, \"#bd3786\"], [0.5555555555555556, \"#d8576b\"], [0.6666666666666666, \"#ed7953\"], [0.7777777777777778, \"#fb9f3a\"], [0.8888888888888888, \"#fdca26\"], [1.0, \"#f0f921\"]], \"type\": \"histogram2d\"}], \"histogram2dcontour\": [{\"colorbar\": {\"outlinewidth\": 0, \"ticks\": \"\"}, \"colorscale\": [[0.0, \"#0d0887\"], [0.1111111111111111, \"#46039f\"], [0.2222222222222222, \"#7201a8\"], [0.3333333333333333, \"#9c179e\"], [0.4444444444444444, \"#bd3786\"], [0.5555555555555556, \"#d8576b\"], [0.6666666666666666, \"#ed7953\"], [0.7777777777777778, \"#fb9f3a\"], [0.8888888888888888, \"#fdca26\"], [1.0, \"#f0f921\"]], \"type\": \"histogram2dcontour\"}], \"mesh3d\": [{\"colorbar\": {\"outlinewidth\": 0, \"ticks\": \"\"}, \"type\": \"mesh3d\"}], \"parcoords\": [{\"line\": {\"colorbar\": {\"outlinewidth\": 0, \"ticks\": \"\"}}, \"type\": \"parcoords\"}], \"pie\": [{\"automargin\": true, \"type\": \"pie\"}], \"scatter\": [{\"marker\": {\"colorbar\": {\"outlinewidth\": 0, \"ticks\": \"\"}}, \"type\": \"scatter\"}], \"scatter3d\": [{\"line\": {\"colorbar\": {\"outlinewidth\": 0, \"ticks\": \"\"}}, \"marker\": {\"colorbar\": {\"outlinewidth\": 0, \"ticks\": \"\"}}, \"type\": \"scatter3d\"}], \"scattercarpet\": [{\"marker\": {\"colorbar\": {\"outlinewidth\": 0, \"ticks\": \"\"}}, \"type\": \"scattercarpet\"}], \"scattergeo\": [{\"marker\": {\"colorbar\": {\"outlinewidth\": 0, \"ticks\": \"\"}}, \"type\": \"scattergeo\"}], \"scattergl\": [{\"marker\": {\"colorbar\": {\"outlinewidth\": 0, \"ticks\": \"\"}}, \"type\": \"scattergl\"}], \"scattermapbox\": [{\"marker\": {\"colorbar\": {\"outlinewidth\": 0, \"ticks\": \"\"}}, \"type\": \"scattermapbox\"}], \"scatterpolar\": [{\"marker\": {\"colorbar\": {\"outlinewidth\": 0, \"ticks\": \"\"}}, \"type\": \"scatterpolar\"}], \"scatterpolargl\": [{\"marker\": {\"colorbar\": {\"outlinewidth\": 0, \"ticks\": \"\"}}, \"type\": \"scatterpolargl\"}], \"scatterternary\": [{\"marker\": {\"colorbar\": {\"outlinewidth\": 0, \"ticks\": \"\"}}, \"type\": \"scatterternary\"}], \"surface\": [{\"colorbar\": {\"outlinewidth\": 0, \"ticks\": \"\"}, \"colorscale\": [[0.0, \"#0d0887\"], [0.1111111111111111, \"#46039f\"], [0.2222222222222222, \"#7201a8\"], [0.3333333333333333, \"#9c179e\"], [0.4444444444444444, \"#bd3786\"], [0.5555555555555556, \"#d8576b\"], [0.6666666666666666, \"#ed7953\"], [0.7777777777777778, \"#fb9f3a\"], [0.8888888888888888, \"#fdca26\"], [1.0, \"#f0f921\"]], \"type\": \"surface\"}], \"table\": [{\"cells\": {\"fill\": {\"color\": \"#EBF0F8\"}, \"line\": {\"color\": \"white\"}}, \"header\": {\"fill\": {\"color\": \"#C8D4E3\"}, \"line\": {\"color\": \"white\"}}, \"type\": \"table\"}]}, \"layout\": {\"annotationdefaults\": {\"arrowcolor\": \"#2a3f5f\", \"arrowhead\": 0, \"arrowwidth\": 1}, \"coloraxis\": {\"colorbar\": {\"outlinewidth\": 0, \"ticks\": \"\"}}, \"colorscale\": {\"diverging\": [[0, \"#8e0152\"], [0.1, \"#c51b7d\"], [0.2, \"#de77ae\"], [0.3, \"#f1b6da\"], [0.4, \"#fde0ef\"], [0.5, \"#f7f7f7\"], [0.6, \"#e6f5d0\"], [0.7, \"#b8e186\"], [0.8, \"#7fbc41\"], [0.9, \"#4d9221\"], [1, \"#276419\"]], \"sequential\": [[0.0, \"#0d0887\"], [0.1111111111111111, \"#46039f\"], [0.2222222222222222, \"#7201a8\"], [0.3333333333333333, \"#9c179e\"], [0.4444444444444444, \"#bd3786\"], [0.5555555555555556, \"#d8576b\"], [0.6666666666666666, \"#ed7953\"], [0.7777777777777778, \"#fb9f3a\"], [0.8888888888888888, \"#fdca26\"], [1.0, \"#f0f921\"]], \"sequentialminus\": [[0.0, \"#0d0887\"], [0.1111111111111111, \"#46039f\"], [0.2222222222222222, \"#7201a8\"], [0.3333333333333333, \"#9c179e\"], [0.4444444444444444, \"#bd3786\"], [0.5555555555555556, \"#d8576b\"], [0.6666666666666666, \"#ed7953\"], [0.7777777777777778, \"#fb9f3a\"], [0.8888888888888888, \"#fdca26\"], [1.0, \"#f0f921\"]]}, \"colorway\": [\"#636efa\", \"#EF553B\", \"#00cc96\", \"#ab63fa\", \"#FFA15A\", \"#19d3f3\", \"#FF6692\", \"#B6E880\", \"#FF97FF\", \"#FECB52\"], \"font\": {\"color\": \"#2a3f5f\"}, \"geo\": {\"bgcolor\": \"white\", \"lakecolor\": \"white\", \"landcolor\": \"#E5ECF6\", \"showlakes\": true, \"showland\": true, \"subunitcolor\": \"white\"}, \"hoverlabel\": {\"align\": \"left\"}, \"hovermode\": \"closest\", \"mapbox\": {\"style\": \"light\"}, \"paper_bgcolor\": \"white\", \"plot_bgcolor\": \"#E5ECF6\", \"polar\": {\"angularaxis\": {\"gridcolor\": \"white\", \"linecolor\": \"white\", \"ticks\": \"\"}, \"bgcolor\": \"#E5ECF6\", \"radialaxis\": {\"gridcolor\": \"white\", \"linecolor\": \"white\", \"ticks\": \"\"}}, \"scene\": {\"xaxis\": {\"backgroundcolor\": \"#E5ECF6\", \"gridcolor\": \"white\", \"gridwidth\": 2, \"linecolor\": \"white\", \"showbackground\": true, \"ticks\": \"\", \"zerolinecolor\": \"white\"}, \"yaxis\": {\"backgroundcolor\": \"#E5ECF6\", \"gridcolor\": \"white\", \"gridwidth\": 2, \"linecolor\": \"white\", \"showbackground\": true, \"ticks\": \"\", \"zerolinecolor\": \"white\"}, \"zaxis\": {\"backgroundcolor\": \"#E5ECF6\", \"gridcolor\": \"white\", \"gridwidth\": 2, \"linecolor\": \"white\", \"showbackground\": true, \"ticks\": \"\", \"zerolinecolor\": \"white\"}}, \"shapedefaults\": {\"line\": {\"color\": \"#2a3f5f\"}}, \"ternary\": {\"aaxis\": {\"gridcolor\": \"white\", \"linecolor\": \"white\", \"ticks\": \"\"}, \"baxis\": {\"gridcolor\": \"white\", \"linecolor\": \"white\", \"ticks\": \"\"}, \"bgcolor\": \"#E5ECF6\", \"caxis\": {\"gridcolor\": \"white\", \"linecolor\": \"white\", \"ticks\": \"\"}}, \"title\": {\"x\": 0.05}, \"xaxis\": {\"automargin\": true, \"gridcolor\": \"white\", \"linecolor\": \"white\", \"ticks\": \"\", \"title\": {\"standoff\": 15}, \"zerolinecolor\": \"white\", \"zerolinewidth\": 2}, \"yaxis\": {\"automargin\": true, \"gridcolor\": \"white\", \"linecolor\": \"white\", \"ticks\": \"\", \"title\": {\"standoff\": 15}, \"zerolinecolor\": \"white\", \"zerolinewidth\": 2}}}, \"xaxis\": {\"anchor\": \"y\", \"domain\": [0.0, 1.0], \"title\": {\"text\": \"# Components\"}}, \"yaxis\": {\"anchor\": \"x\", \"domain\": [0.0, 1.0], \"title\": {\"text\": \"Explained Variance\"}}},\n",
              "                        {\"responsive\": true}\n",
              "                    ).then(function(){\n",
              "                            \n",
              "var gd = document.getElementById('02bb3bd3-48bc-4969-bc7f-e8448932fed5');\n",
              "var x = new MutationObserver(function (mutations, observer) {{\n",
              "        var display = window.getComputedStyle(gd).display;\n",
              "        if (!display || display === 'none') {{\n",
              "            console.log([gd, 'removed!']);\n",
              "            Plotly.purge(gd);\n",
              "            observer.disconnect();\n",
              "        }}\n",
              "}});\n",
              "\n",
              "// Listen for the removal of the full notebook cells\n",
              "var notebookContainer = gd.closest('#notebook-container');\n",
              "if (notebookContainer) {{\n",
              "    x.observe(notebookContainer, {childList: true});\n",
              "}}\n",
              "\n",
              "// Listen for the clearing of the current output cell\n",
              "var outputEl = gd.closest('.output');\n",
              "if (outputEl) {{\n",
              "    x.observe(outputEl, {childList: true});\n",
              "}}\n",
              "\n",
              "                        })\n",
              "                };\n",
              "                \n",
              "            </script>\n",
              "        </div>\n",
              "</body>\n",
              "</html>"
            ]
          },
          "metadata": {
            "tags": []
          }
        }
      ]
    },
    {
      "cell_type": "code",
      "metadata": {
        "id": "AfMY3VDv0k5O"
      },
      "source": [
        "#remove everything except for \"Lot Area\" from both independent variable datasets\r\n",
        "\r\n",
        "train_x = train.loc[:, ('LotArea','OverallQual')]\r\n",
        "\r\n",
        "test_x = test.loc[:, ('LotArea','OverallQual')]"
      ],
      "execution_count": 12,
      "outputs": []
    },
    {
      "cell_type": "code",
      "metadata": {
        "id": "s6AMqxLJS8Js"
      },
      "source": [
        "#This runs recursive feature elimination and cross-validated selection to find the best number of features\r\n",
        "#uses SVR model\r\n",
        "estimator = SVR(kernel=\"linear\")\r\n",
        "selector = RFECV(estimator, step=1, cv=5)\r\n",
        "selector = selector.fit(train_x, train_y)\r\n",
        "print(selector.support_)"
      ],
      "execution_count": null,
      "outputs": []
    },
    {
      "cell_type": "code",
      "metadata": {
        "id": "JawNeVCYQN4X"
      },
      "source": [
        "#remove \"Lot Area\" from both independent variable datasets\r\n",
        "\r\n",
        "train_x = train.loc[:, ('MSSubClass','LotFrontage','OverallQual','OverallCond','YearBuilt','YearRemodAdd','MasVnrArea','BsmtFinSF1','BsmtUnfSF','TotalBsmtSF',\r\n",
        "                '1stFlrSF','2ndFlrSF','GrLivArea','BsmtFullBath','BsmtHalfBath','FullBath','HalfBath','BedroomAbvGr','KitchenAbvGr','TotRmsAbvGrd','Fireplaces',\r\n",
        "                'GarageYrBlt','GarageCars','GarageArea','WoodDeckSF','OpenPorchSF','EnclosedPorch','YrSold','MoSold')]\r\n",
        "\r\n",
        "test_x = test.loc[:, ('MSSubClass','LotFrontage','OverallQual','OverallCond','YearBuilt','YearRemodAdd','MasVnrArea','BsmtFinSF1','BsmtUnfSF','TotalBsmtSF',\r\n",
        "                '1stFlrSF','2ndFlrSF','GrLivArea','BsmtFullBath','BsmtHalfBath','FullBath','HalfBath','BedroomAbvGr','KitchenAbvGr','TotRmsAbvGrd','Fireplaces',\r\n",
        "                'GarageYrBlt','GarageCars','GarageArea','WoodDeckSF','OpenPorchSF','EnclosedPorch','YrSold','MoSold')]"
      ],
      "execution_count": 18,
      "outputs": []
    },
    {
      "cell_type": "code",
      "metadata": {
        "id": "Adjl9MA8Poci"
      },
      "source": [
        "#This runs recursive feature elimination and cross-validated selection to find the best number of features\r\n",
        "#uses XGBregressor model\r\n",
        "estimator = XGBRegressor(kernel=\"linear\")\r\n",
        "selector = RFECV(estimator, step=1, cv=5)\r\n",
        "selector = selector.fit(train_x, train_y)\r\n",
        "print(selector.support_)"
      ],
      "execution_count": null,
      "outputs": []
    },
    {
      "cell_type": "code",
      "metadata": {
        "id": "PKuR9dR2QAxj"
      },
      "source": [
        "#Remove according to XGBRegressor\r\n",
        "train_x = train.loc[:, ('LotArea','OverallQual','OverallCond','YearBuilt','MasVnrArea','BsmtUnfSF','TotalBsmtSF',\r\n",
        "                '1stFlrSF','2ndFlrSF','GrLivArea','BsmtHalfBath','FullBath','BedroomAbvGr','KitchenAbvGr','TotRmsAbvGrd','Fireplaces',\r\n",
        "                'GarageYrBlt','GarageCars','GarageArea','OpenPorchSF')]\r\n",
        "\r\n",
        "#set test_x to test data\r\n",
        "test_x = test.loc[:, ('LotArea','OverallQual','OverallCond','YearBuilt','MasVnrArea','BsmtUnfSF','TotalBsmtSF',\r\n",
        "                '1stFlrSF','2ndFlrSF','GrLivArea','BsmtHalfBath','FullBath','BedroomAbvGr','KitchenAbvGr','TotRmsAbvGrd','Fireplaces',\r\n",
        "                'GarageYrBlt','GarageCars','GarageArea','OpenPorchSF')]"
      ],
      "execution_count": 16,
      "outputs": []
    },
    {
      "cell_type": "code",
      "metadata": {
        "colab": {
          "base_uri": "https://localhost:8080/"
        },
        "id": "xlL8CnDAR5uV",
        "outputId": "df965ad1-cfd3-4bed-943d-b84b6ef0419f"
      },
      "source": [
        "#This runs recursive feature elimination and cross-validated selection to find the best number of features\r\n",
        "#uses random forest model\r\n",
        "estimator = RandomForestRegressor(max_depth=30, random_state=0)\r\n",
        "selector = RFECV(estimator, step=1, cv=5)\r\n",
        "selector = selector.fit(train_x, train_y)\r\n",
        "print(selector.support_)"
      ],
      "execution_count": 21,
      "outputs": [
        {
          "output_type": "stream",
          "text": [
            "[False False  True  True False  True False False  True False  True  True\n",
            "  True  True False False False False False False False False False  True\n",
            "  True False False False False False]\n"
          ],
          "name": "stdout"
        }
      ]
    },
    {
      "cell_type": "code",
      "metadata": {
        "id": "qwej1y0SSV2w"
      },
      "source": [
        "#set according to Random forrest regressor @ 5\r\n",
        "train_x = train.loc[:, ('LotArea','OverallQual','YearBuilt','BsmtFinSF1','TotalBsmtSF',\r\n",
        "                '1stFlrSF','2ndFlrSF','GrLivArea','FullBath','GarageCars','GarageArea')]\r\n",
        "\r\n",
        "#set test_x to test data\r\n",
        "test_x = test.loc[:, ('LotArea','OverallQual','YearBuilt','BsmtFinSF1','TotalBsmtSF',\r\n",
        "                '1stFlrSF','2ndFlrSF','GrLivArea','FullBath','GarageCars','GarageArea')]"
      ],
      "execution_count": 23,
      "outputs": []
    },
    {
      "cell_type": "markdown",
      "metadata": {
        "id": "Mz0VMfmMpmeA"
      },
      "source": [
        ""
      ]
    },
    {
      "cell_type": "code",
      "metadata": {
        "id": "Gj9pGSMv41V_"
      },
      "source": [
        "#This runs XGBClassifier\n",
        "\n",
        "model = XGBClassifier()\n",
        "model.fit(train_x, train_y)\n",
        "\n",
        "print(model)\n",
        "\n",
        "y_pred = model.predict(test_x)\n",
        "predictions = [value for value in y_pred]\n",
        "\n",
        "print(predictions)\n",
        "\n",
        "#get results and export them to a csv\n",
        "results = test.loc[:, ('Id')].copy()\n",
        "final = results.to_frame()\n",
        "final['SalePrice'] = predictions\n",
        "final.head()\n",
        "final.to_csv('results.csv')\n",
        "\n",
        "#SVR Score: 0.22837"
      ],
      "execution_count": null,
      "outputs": []
    },
    {
      "cell_type": "code",
      "metadata": {
        "id": "F6yYLBO96O2N"
      },
      "source": [
        "#This runs a linear regressiono model\n",
        "\n",
        "reg = LinearRegression().fit(train_x, train_y)\n",
        "reg.score(train_x, train_y)\n",
        "\n",
        "print(reg.coef_)\n",
        "print(reg.intercept_)\n",
        "\n",
        "y_pred = reg.predict(test_x)\n",
        "predictions = [value for value in y_pred]\n",
        "\n",
        "print(predictions)\n",
        "\n",
        "#get results and export them to a csv\n",
        "results = test.loc[:, ('Id')].copy()\n",
        "final = results.to_frame()\n",
        "final['SalePrice'] = predictions\n",
        "final.head()\n",
        "final.to_csv('results.csv')\n",
        "\n",
        "#SVR Score: 0.33024"
      ],
      "execution_count": null,
      "outputs": []
    },
    {
      "cell_type": "code",
      "metadata": {
        "colab": {
          "base_uri": "https://localhost:8080/"
        },
        "id": "B-EBBItJOEcG",
        "outputId": "7c1d3e81-c805-499b-b8fd-550497c7398c"
      },
      "source": [
        "#This runs XGBRegressor\n",
        "\n",
        "model = XGBRegressor()\n",
        "model.fit(train_x, train_y)\n",
        "\n",
        "print(model)\n",
        "\n",
        "y_pred = model.predict(test_x)\n",
        "predictions = [value for value in y_pred]\n",
        "\n",
        "print(predictions)\n",
        "\n",
        "#get results and export them to a csv\n",
        "results = test.loc[:, ('Id')].copy()\n",
        "final = results.to_frame()\n",
        "final['SalePrice'] = predictions\n",
        "final.head()\n",
        "final.to_csv('results.csv')\n",
        "\n",
        "#SVR Score: 0.14440\n",
        "#XGB Score: 0.14606\n",
        "#RFR Score: 0.15827"
      ],
      "execution_count": 24,
      "outputs": [
        {
          "output_type": "stream",
          "text": [
            "[18:30:13] WARNING: /workspace/src/objective/regression_obj.cu:152: reg:linear is now deprecated in favor of reg:squarederror.\n",
            "XGBRegressor(base_score=0.5, booster='gbtree', colsample_bylevel=1,\n",
            "             colsample_bynode=1, colsample_bytree=1, gamma=0,\n",
            "             importance_type='gain', learning_rate=0.1, max_delta_step=0,\n",
            "             max_depth=3, min_child_weight=1, missing=None, n_estimators=100,\n",
            "             n_jobs=1, nthread=None, objective='reg:linear', random_state=0,\n",
            "             reg_alpha=0, reg_lambda=1, scale_pos_weight=1, seed=None,\n",
            "             silent=None, subsample=1, verbosity=1)\n",
            "[128860.45, 160853.4, 175137.9, 183360.36, 209008.38, 177820.8, 162769.67, 165347.9, 186436.98, 126430.08, 204200.84, 95805.45, 97345.39, 152847.23, 139265.0, 379629.16, 268075.22, 309618.28, 273816.28, 471451.66, 325886.84, 216223.98, 170285.12, 169147.88, 176088.03, 194843.81, 338088.03, 250012.25, 199064.47, 209905.02, 190979.28, 104324.4, 177858.02, 300201.62, 295101.44, 223664.19, 170350.34, 159873.95, 160875.39, 146132.05, 168995.16, 146878.77, 287050.94, 226973.3, 215969.64, 193250.22, 236553.67, 195911.83, 170545.55, 146614.22, 146614.22, 170804.94, 158638.9, 183333.14, 188826.12, 174728.67, 145501.61, 150237.8, 227139.23, 137873.48, 141544.52, 178775.55, 110738.15, 123476.42, 128928.875, 136349.77, 95947.914, 131112.5, 144361.92, 166562.69, 97374.14, 99518.31, 146604.31, 116599.13, 152050.1, 117094.88, 87942.375, 177596.88, 187532.08, 129073.766, 153336.95, 138636.94, 217647.1, 85036.17, 113171.01, 127734.18, 130609.45, 132273.52, 107348.16, 145910.7, 130319.36, 137381.5, 149304.6, 102957.09, 173643.31, 114192.69, 127672.28, 107402.984, 109722.8, 143190.66, 165349.38, 121559.13, 123522.85, 159650.8, 153599.4, 212136.6, 93468.57, 215671.06, 130622.69, 115365.84, 123382.266, 138021.66, 264835.28, 138293.17, 208503.02, 212476.98, 202255.02, 150773.95, 149677.28, 200000.92, 139271.62, 129875.14, 346710.34, 224491.12, 144576.06, 68614.16, 97963.15, 141544.52, 103361.29, 133960.27, 96081.95, 115559.82, 127216.15, 154517.4, 131179.75, 222495.66, 192469.44, 198886.03, 196028.75, 194680.6, 75751.35, 115186.27, 93286.516, 271423.38, 248154.39, 157223.64, 192531.56, 222532.9, 197141.25, 155295.5, 150718.03, 169878.5, 159306.72, 117384.734, 79132.84, 73974.01, 88550.305, 124805.42, 133026.73, 178103.06, 144921.92, 144230.31, 294252.84, 198587.03, 144467.47, 172980.95, 190202.19, 274506.62, 184357.25, 360807.62, 234692.47, 247646.0, 168643.83, 182406.98, 185687.33, 155807.84, 178337.56, 223313.44, 179746.73, 255258.22, 184174.73, 210716.7, 217067.98, 224011.53, 180478.14, 152272.3, 178794.66, 131993.86, 132746.72, 125226.57, 113554.7, 101167.46, 94219.67, 158097.83, 162301.94, 153411.56, 158662.16, 152410.14, 152320.36, 136000.34, 468948.16, 457539.38, 406804.78, 376570.62, 316519.53, 325413.72, 358607.88, 342085.25, 307090.66, 362894.78, 250842.88, 434241.97, 302900.66, 250012.25, 182489.2, 181328.53, 211218.33, 462525.34, 378009.66, 329423.78, 272228.72, 289739.2, 177063.34, 179873.62, 174369.6, 170693.19, 166140.45, 185116.06, 185116.06, 188453.48, 178334.23, 273081.72, 171278.36, 181861.95, 172008.42, 277215.75, 172008.42, 392681.88, 318465.38, 241861.02, 256371.66, 278335.25, 266533.72, 314677.53, 241655.78, 491796.8, 208506.39, 204327.84, 304607.2, 230737.16, 257910.23, 257792.1, 269105.34, 213011.8, 201924.14, 187861.28, 187103.84, 136242.61, 195534.25, 255153.56, 184001.44, 130985.17, 159876.88, 225249.86, 235700.28, 178517.89, 154043.44, 187071.3, 161534.34, 163522.28, 122733.98, 128939.664, 125975.91, 134622.1, 126524.23, 117374.68, 352758.8, 199913.9, 324692.56, 204061.73, 190827.45, 168995.16, 173844.2, 272671.38, 204391.78, 239477.83, 226084.69, 191816.88, 151506.92, 144852.75, 233282.14, 126086.945, 151766.06, 227230.23, 168106.34, 126430.08, 120330.586, 138039.0, 171569.25, 151854.0, 151883.86, 170869.7, 176724.16, 115984.016, 197226.94, 185904.86, 205184.31, 137873.48, 184819.9, 136894.23, 139292.22, 142382.34, 124046.82, 161682.2, 136086.86, 132608.39, 112376.09, 128086.71, 103635.91, 181969.31, 133242.12, 86112.95, 120906.26, 83438.695, 115510.76, 162769.98, 158094.23, 54664.15, 105575.02, 75436.86, 214583.62, 156254.53, 149355.08, 142358.73, 142748.52, 112298.1, 130719.31, 120256.59, 116513.99, 118777.14, 114247.44, 153662.02, 169292.73, 132882.28, 138307.3, 104821.49, 166857.7, 130591.45, 111000.9, 147771.22, 104891.52, 120895.164, 118825.805, 95915.086, 64263.97, 87877.055, 126759.66, 137548.78, 99532.71, 64346.227, 119315.305, 148505.3, 65372.43, 125985.74, 107562.16, 99688.305, 101617.695, 133400.95, 126536.555, 154933.78, 177674.52, 118704.75, 167674.39, 111184.586, 151813.42, 132995.12, 102382.19, 130127.38, 72935.25, 150780.3, 148219.14, 99266.72, 138481.16, 133816.02, 139930.38, 163342.4, 165117.11, 61789.566, 131493.83, 133055.16, 153483.62, 125686.766, 129179.34, 175930.6, 160560.4, 211712.55, 153880.12, 149343.62, 133638.98, 144386.83, 133638.98, 356377.28, 354748.5, 354748.5, 330881.5, 335914.5, 265754.6, 311012.3, 209478.44, 268175.44, 250012.25, 170994.38, 220342.33, 138065.62, 218807.83, 192134.7, 222946.22, 197845.3, 139823.75, 132535.2, 224444.06, 245591.77, 196767.03, 202270.47, 271775.4, 298714.16, 212739.2, 303563.2, 170880.8, 123154.77, 140012.3, 114547.305, 134188.2, 140871.78, 155352.5, 123371.74, 120934.484, 101240.414, 125735.516, 141767.53, 165504.52, 152991.55, 219510.28, 125196.5, 178317.53, 157507.3, 212484.14, 109667.09, 127333.78, 117350.086, 195531.36, 252638.89, 128885.36, 74713.766, 284021.03, 89963.79, 275124.9, 137458.56, 151785.77, 165814.23, 450394.16, 334690.8, 194265.12, 199273.42, 216085.75, 421409.4, 135975.69, 163659.53, 120301.51, 125664.53, 142417.03, 146127.8, 160478.95, 185368.98, 177791.36, 190202.19, 181123.39, 179164.3, 240950.22, 200838.97, 172473.84, 191795.38, 210846.17, 313566.44, 375982.06, 181198.95, 301438.16, 213830.17, 217369.61, 177873.47, 265499.6, 215100.44, 161238.31, 197084.08, 138238.34, 305079.03, 159349.2, 309463.03, 147088.52, 113349.11, 119294.95, 102564.95, 102564.95, 113731.24, 151845.81, 162866.27, 281476.75, 433778.78, 400974.72, 477800.25, 462740.66, 390955.88, 274673.5, 302259.25, 335600.16, 271010.56, 350615.1, 406962.22, 349037.72, 192658.0, 346635.3, 237311.64, 218147.2, 168948.1, 214678.95, 219033.34, 169723.6, 170598.5, 194843.81, 216229.42, 214408.88, 212155.7, 170234.56, 252191.64, 190979.28, 240880.95, 317137.4, 363413.6, 242198.17, 301141.28, 245168.77, 243585.92, 256096.25, 261565.98, 245317.0, 219704.03, 253986.47, 209145.5, 181762.4, 195136.86, 147644.39, 185938.06, 184224.2, 186609.3, 207135.1, 190193.39, 201438.4, 114405.36, 123522.85, 126901.164, 120846.57, 187751.92, 149181.44, 227647.84, 376164.4, 168362.47, 145391.83, 156572.95, 174858.38, 275055.22, 257558.9, 272110.06, 276936.16, 164662.12, 208952.45, 195371.56, 198706.36, 276453.12, 218092.23, 394373.53, 244051.55, 195534.25, 174813.55, 180522.62, 205632.69, 149918.7, 155993.8, 126975.93, 152098.38, 202352.7, 101695.31, 132323.89, 141204.52, 73008.57, 166329.98, 103242.42, 127709.77, 212975.7, 139292.22, 153529.53, 189816.33, 137941.86, 114145.42, 141547.42, 136382.53, 181518.34, 120302.55, 173237.69, 85559.875, 108114.586, 79339.805, 119850.87, 133846.25, 181472.92, 149812.17, 125185.27, 139292.22, 132746.72, 141390.83, 116207.49, 134301.73, 132873.9, 151517.11, 107995.89, 125378.76, 142090.23, 120163.164, 98379.89, 87872.61, 123726.85, 116618.38, 127978.28, 138560.83, 124416.22, 158686.52, 89973.95, 84662.4, 146357.53, 61743.176, 108678.07, 124709.91, 139379.67, 93524.06, 162571.6, 108932.54, 92481.945, 215659.14, 121464.31, 105824.08, 121165.984, 158718.52, 135390.88, 113480.47, 97756.836, 147895.56, 108735.516, 140320.33, 123034.0, 96498.64, 88217.79, 78976.67, 94018.41, 82754.23, 198927.34, 145217.55, 152612.9, 156594.67, 125199.67, 113362.23, 155200.11, 167291.97, 118597.46, 122387.34, 117876.195, 102446.28, 83706.63, 114206.53, 135678.86, 155328.38, 128776.52, 133816.02, 133055.16, 132821.28, 152951.45, 128776.52, 157201.02, 163012.58, 124799.0, 141813.36, 207407.1, 124629.1, 172884.58, 161050.08, 120157.234, 132524.7, 277947.84, 231157.12, 239361.95, 210062.4, 173896.83, 251085.67, 450018.28, 352771.97, 253354.56, 171897.52, 143135.34, 218621.73, 201575.83, 199024.8, 217931.36, 141852.83, 140501.33, 159492.67, 226747.16, 332002.4, 311670.88, 244393.5, 215159.83, 144576.06, 245826.31, 190671.48, 221242.05, 193124.66, 136301.47, 128248.73, 148806.66, 147798.08, 152855.72, 199339.83, 86144.07, 87231.22, 107214.164, 100367.27, 88003.16, 116323.414, 94676.21, 103868.72, 157609.8, 174979.2, 123915.68, 144003.97, 201160.1, 157623.42, 157812.25, 112502.09, 134572.75, 203840.75, 226713.73, 214190.05, 118054.06, 120835.734, 107494.375, 100684.73, 129297.64, 92483.56, 164527.69, 102937.086, 83635.31, 76232.37, 70927.34, 284021.03, 231547.56, 276937.03, 213332.06, 144235.94, 191890.02, 192365.19, 270279.94, 244723.02, 155295.5, 226524.69, 180106.48, 163869.2, 247659.34, 219034.48, 286950.5, 344748.6, 225967.5, 133058.19, 161185.53, 153871.11, 134389.92, 124681.48, 90854.19, 89135.38, 147824.11, 98324.58, 123129.7, 124603.164, 139029.98, 160596.64, 182421.73, 155385.86, 176007.42, 189248.81, 195315.98, 201252.11, 178913.94, 170082.23, 160853.23, 201693.38, 216631.16, 326253.4, 362625.72, 204013.84, 278956.0, 371395.5, 369483.5, 158395.8, 178263.25, 229344.7, 209881.77, 156464.88, 157223.64, 172613.05, 176932.2, 187541.23, 154332.25, 115788.9, 125889.65, 157600.75, 177884.64, 102564.95, 108538.586, 160478.84, 126901.164, 342382.06, 264221.7, 408859.75, 464576.03, 313566.44, 430996.28, 461355.66, 467139.94, 463870.16, 271698.6, 288484.44, 317862.56, 433287.03, 323805.53, 266262.84, 251377.62, 251447.44, 255022.83, 177160.39, 177160.39, 179531.36, 224301.45, 277075.1, 218147.2, 199000.44, 182439.03, 178883.4, 187084.58, 174369.6, 185761.64, 179762.25, 175443.02, 184137.6, 189128.61, 239689.1, 167906.34, 184265.75, 168643.83, 199693.17, 166140.45, 213792.8, 226672.47, 184282.33, 172473.84, 379034.6, 422297.03, 330586.9, 255887.36, 249113.06, 342461.06, 193124.66, 284448.9, 231788.05, 409202.06, 200766.6, 243436.06, 219975.11, 240459.56, 255022.83, 219704.03, 192051.23, 238989.66, 169336.97, 266670.25, 232107.05, 258791.17, 223116.34, 135194.22, 168042.1, 155532.08, 197472.67, 193039.64, 121775.61, 115622.21, 138540.5, 266951.06, 140068.78, 152141.88, 221601.38, 203480.69, 231268.14, 201565.08, 225421.08, 168995.16, 168570.83, 188280.14, 263694.72, 302149.28, 233999.5, 269051.0, 348200.25, 136422.5, 197138.78, 142358.73, 161170.17, 186579.53, 194970.38, 241349.45, 149201.84, 141485.08, 125266.9, 107930.83, 129875.14, 145056.27, 132317.97, 114034.1, 176962.06, 145426.75, 188938.05, 137403.9, 213810.47, 121910.875, 74584.65, 49189.35, 109205.34, 138223.89, 147474.25, 140456.69, 156282.38, 135018.88, 127809.79, 136596.62, 125378.76, 182733.28, 128399.586, 151364.38, 137268.98, 127079.06, 149890.72, 138934.0, 123374.984, 115788.9, 131932.11, 125220.92, 143980.92, 129417.95, 120488.67, 144844.25, 203472.61, 133746.97, 113083.086, 173653.02, 119588.95, 135018.88, 122994.805, 132746.72, 139669.16, 139669.16, 144532.58, 99630.55, 111830.05, 124853.055, 109431.55, 133481.69, 118919.01, 92436.48, 111178.41, 107365.18, 77312.39, 123805.89, 186063.1, 147409.6, 105461.63, 150229.84, 113716.7, 200550.03, 93485.29, 101138.0, 110359.98, 138313.52, 120557.55, 116047.18, 103711.63, 134958.19, 103538.0, 118241.39, 128057.24, 157057.88, 129069.96, 118634.89, 150509.44, 91779.54, 98710.836, 204064.55, 207068.67, 168585.5, 129205.86, 112681.734, 230889.73, 112501.875, 130609.12, 167706.9, 133866.78, 136237.38, 131489.58, 130417.7, 117374.68, 120858.62, 119588.95, 152614.61, 187911.12, 151236.36, 149531.19, 142892.67, 96166.414, 174848.72, 137795.05, 171409.9, 102206.266, 211487.19, 156862.6, 118227.22, 95317.88, 121910.71, 141896.3, 149061.72, 100851.02, 197989.89, 217627.3, 257788.23, 325720.62, 257788.23, 215033.3, 233711.27, 184381.23, 202094.9, 205764.4, 223604.84, 150395.95, 160612.2, 134094.5, 148636.16, 211292.08, 210504.72, 190979.28, 218997.53, 135678.86, 134550.7, 134757.67, 138727.89, 133049.06, 131750.52, 131503.73, 116183.164, 245107.36, 220613.92, 194843.81, 233999.5, 326319.38, 236617.3, 231683.23, 183977.14, 198852.67, 167949.92, 185124.22, 161240.23, 128776.52, 122269.25, 132528.56, 141011.62, 140391.52, 158049.2, 163490.03, 287290.4, 138293.48, 113740.79, 89279.32, 114911.06, 109660.57, 108201.42, 120635.164, 195906.67, 145568.14, 109109.016, 126184.79, 119104.13, 137907.67, 172589.3, 125560.63, 123826.49, 128883.93, 193061.73, 193208.11, 118054.06, 171937.3, 194525.12, 205761.69, 270356.72, 134697.0, 121598.54, 141501.3, 83141.48, 72899.805, 115351.586, 134679.03, 118301.0, 279461.8, 154515.5, 179695.39, 215418.02, 215084.34, 162286.84, 142358.73, 205294.55, 186625.36, 207749.08, 243059.12, 171553.17, 213877.34, 333501.84, 183327.73, 258868.84, 329273.3, 188954.03, 142723.72, 86520.95, 90854.19, 84895.01, 78214.38, 134757.67, 172948.38, 190268.16, 152674.14, 113123.46, 171805.2, 147183.38, 128774.73, 128963.914, 154592.12, 139850.97, 193021.48, 219367.98, 197668.25, 185368.98, 180440.53, 182201.6, 252375.47, 279814.9, 339895.62, 163535.83, 189088.58, 433760.03, 566379.1, 356932.47, 464540.4, 437662.4, 306885.2, 394313.72, 145145.48, 188623.3, 180395.78, 254993.97, 177269.44, 149201.84, 111240.875, 191491.42, 107785.67, 131829.06, 101167.46, 101167.46, 102564.95, 140275.98, 138580.78, 150560.44, 142273.33, 429523.38, 256711.31, 235197.78, 397661.72, 323965.3, 338490.03, 261603.27, 306673.47, 321634.72, 354171.03, 352002.38, 268041.62, 271711.94, 318109.25, 281364.75, 170994.38, 185124.22, 169825.27, 297398.97, 185124.22, 185343.6, 216819.17, 214560.34, 169147.88, 185116.06, 196709.14, 261113.42, 270648.97, 281038.25, 431979.25, 370801.56, 521410.2, 314816.6, 380201.94, 240825.89, 325799.53, 229110.4, 213367.23, 455384.22, 184819.69, 138972.39, 192051.23, 140553.92, 197414.03, 186231.1, 182939.9, 195467.02, 169893.7, 155489.69, 156074.55, 119822.16, 151178.77, 137419.06, 128399.586, 117374.68, 124658.67, 142949.23, 119207.13, 126901.164, 269921.84, 375458.72, 166682.0, 152799.62, 166208.31, 145757.31, 180312.17, 226227.69, 153784.6, 179263.39, 141748.14, 159982.52, 144234.08, 126901.164, 136678.4, 139719.0, 164875.22, 162498.75, 153985.17, 141544.52, 121530.516, 107984.04, 163284.39, 142382.45, 135244.1, 128308.8, 123157.93, 149890.72, 157907.53, 135540.7, 139292.22, 150686.1, 140281.08, 144932.45, 134784.44, 134646.47, 149341.4, 123970.805, 128513.375, 136037.83, 134222.44, 236030.7, 156629.31, 249120.08, 130239.65, 80844.0, 88453.88, 72528.336, 149391.78, 131876.38, 145087.73, 146728.1, 186240.33, 158698.73, 253678.05, 134899.88, 92912.41, 136048.2, 139669.16, 170416.61, 122894.68, 125429.625, 130760.7, 144399.72, 125007.37, 134301.47, 143237.2, 118121.23, 124070.59, 119500.625, 94536.56, 84091.63, 95808.984, 129911.83, 134067.45, 73304.0, 130475.69, 76017.336, 191375.47, 92064.54, 121326.26, 76980.66, 153520.34, 103959.79, 107199.016, 105456.78, 229790.11, 122261.484, 100930.32, 79938.41, 120835.734, 143032.94, 177071.45, 150347.92, 92692.875, 100195.36, 169561.64, 143580.72, 134798.48, 134803.03, 152587.19, 141679.86, 158540.6, 172751.95, 118204.875, 235727.23, 133514.17, 129894.34, 154614.94, 129894.58, 114255.87, 196216.28, 302499.25, 166906.19, 138271.0, 123849.875, 155348.5, 217431.28, 191632.44, 233287.69, 199582.61, 242815.89, 277973.88, 202785.34, 204294.03, 192910.62, 169292.42, 145116.06, 172949.75, 206528.88, 206652.3, 215934.98, 143622.86, 156115.5, 122894.68, 205788.67, 194387.02, 227027.58, 200347.25, 275724.3, 237453.3, 239091.06, 227450.77, 144576.06, 209742.7, 202094.9, 192910.62, 214782.8, 123237.68, 127324.83, 152991.55, 195176.75, 128684.07, 242470.28, 140012.3, 153076.7, 85590.1, 128722.88, 122375.2, 156294.4, 102647.38, 62405.8, 95964.54, 154318.89, 126079.09, 157494.58, 137317.03, 165542.83, 138064.61, 119174.76, 159115.34, 149456.86, 180459.94, 182935.19, 180776.2, 204451.34, 116880.01, 137203.77, 69920.23, 78510.57, 144968.16, 73800.48, 110105.914, 64188.03, 294946.5, 271423.38, 197715.73, 165185.88, 225894.75, 155523.61, 233825.47, 190455.06, 331696.25, 365495.47, 124524.96, 224377.22, 100309.08, 126680.78, 163768.95, 84695.17, 86520.95, 140889.7, 89135.38, 73974.01, 73974.01, 86520.95, 160729.92, 125789.445, 242585.06]\n"
          ],
          "name": "stdout"
        }
      ]
    },
    {
      "cell_type": "code",
      "metadata": {
        "colab": {
          "base_uri": "https://localhost:8080/"
        },
        "id": "v_cnK3hLKHWr",
        "outputId": "d8cb3098-0c7a-43e8-dac5-c5209694614a"
      },
      "source": [
        "#This runs Random Forest Regressor\r\n",
        "\r\n",
        "regr = RandomForestRegressor(max_depth=29, random_state=0)\r\n",
        "regr.fit(train_x, train_y)\r\n",
        "\r\n",
        "print(regr)\r\n",
        "\r\n",
        "y_pred = regr.predict(test_x)\r\n",
        "predictions = [value for value in y_pred]\r\n",
        "\r\n",
        "print(predictions)\r\n",
        "\r\n",
        "#get results and export them to a csv\r\n",
        "results = test.loc[:, ('Id')].copy()\r\n",
        "final = results.to_frame()\r\n",
        "final['SalePrice'] = predictions\r\n",
        "final.head()\r\n",
        "final.to_csv('results.csv')\r\n",
        "\r\n",
        "#SVR Score: 0.17825\r\n",
        "#XGB Score: 0.17890\r\n",
        "#depth 29:  0.14852"
      ],
      "execution_count": 23,
      "outputs": [
        {
          "output_type": "stream",
          "text": [
            "RandomForestRegressor(bootstrap=True, ccp_alpha=0.0, criterion='mse',\n",
            "                      max_depth=29, max_features='auto', max_leaf_nodes=None,\n",
            "                      max_samples=None, min_impurity_decrease=0.0,\n",
            "                      min_impurity_split=None, min_samples_leaf=1,\n",
            "                      min_samples_split=2, min_weight_fraction_leaf=0.0,\n",
            "                      n_estimators=100, n_jobs=None, oob_score=False,\n",
            "                      random_state=0, verbose=0, warm_start=False)\n",
            "[129155.65, 159284.5, 176536.2, 183505.0, 200309.07, 183587.22, 164535.96, 173691.8, 180271.98, 122395.0, 195579.2, 105455.0, 96508.93, 150667.0, 136592.7214285714, 389058.08, 260021.6, 310123.42, 248023.68, 441757.49, 322085.2, 204969.09, 169713.04, 170088.54, 170712.8, 208745.12, 349776.38, 252932.59, 197794.72, 199712.32, 187020.31, 101819.24, 183325.0, 296422.95, 313441.2, 221440.8, 186442.07, 152854.09000000003, 152552.6906666667, 152263.22, 173100.4, 147820.8106666667, 297123.84, 226242.92, 216422.89, 179280.2, 222489.24, 212644.0, 166723.5, 143531.24, 151452.2, 166499.05, 165141.32, 179805.0, 164958.24, 168998.35, 146610.0, 134149.72, 223480.16, 138789.0, 144291.0, 168031.0, 115914.62, 126421.43, 134524.0, 135304.83, 94150.05, 123418.33, 138088.62, 163142.0, 113123.94, 105748.5, 135907.83, 120376.5, 149217.0, 112203.81, 80188.93, 195007.0, 230395.24, 129066.98, 164738.25, 139914.0, 219851.7, 80026.5, 104671.93, 128071.12, 138413.2, 141272.02, 116972.52, 139877.94, 117153.2, 133730.31, 150119.22, 114407.88, 180235.24, 110267.17, 144628.0, 100206.43, 130436.83, 143054.36, 175627.75, 120020.4, 118847.47, 164180.08, 149016.24, 200463.12, 86117.71, 226676.4, 141008.98, 108412.73, 128547.05, 137832.0, 247262.83, 147590.31, 199407.14, 210527.0, 199397.93, 155414.37, 143718.6, 192342.0, 136809.0, 129907.83, 332802.71, 236581.0, 139023.25, 66285.43, 104075.79, 148519.09, 105736.69, 133516.33, 108018.08, 111484.67, 120333.16, 136513.43, 136207.71, 241433.0, 170577.95, 185308.6, 204620.92, 195657.07, 64720.14, 118860.83, 94748.52, 275781.93, 261138.43, 171928.32, 197584.45, 207260.8, 191368.13, 150667.84, 151044.17, 145776.9, 161208.78, 123090.6, 83136.0, 77043.0, 85495.0, 119820.14, 131457.0, 151705.51, 141806.03, 150228.52, 304764.78, 212242.5, 130583.47, 179107.0, 189335.5, 288792.91, 176082.4, 349419.29, 219399.0, 254933.67, 167086.17, 178715.0, 179753.76, 160217.04, 168679.5, 211245.0, 175876.55, 267016.68, 185906.0, 220356.46, 225419.02, 219047.7, 171021.17, 153194.0, 166231.0, 141250.01, 135995.0, 121542.6, 115932.5, 96742.0, 100160.0, 154763.5, 157710.8, 150324.0, 154125.5, 150269.0, 142833.2214285714, 145460.5, 463154.28, 397587.23, 382741.71, 466482.14, 311088.97, 353971.97, 353888.13, 335041.31, 294046.34, 343210.55, 264586.14, 498540.41, 297430.81, 251504.69, 187795.22, 190960.45, 214434.73, 492898.76, 365526.48, 316290.73, 258712.86, 293937.32, 183037.01, 168512.95, 172487.57, 168207.04, 165553.75, 189563.27, 187508.82, 185166.4, 168804.38, 256673.7, 170238.4, 187085.5, 170630.7, 273600.39, 171503.8, 354155.95, 323713.97, 228502.48, 257501.12, 264834.05, 259920.12, 306126.67, 233062.13, 504136.22, 217649.55, 215421.41, 292415.1, 225772.38, 244456.96, 238862.33, 249530.87, 216186.0, 202020.01, 190819.5, 175053.34, 141787.34, 203641.65, 252296.93, 178220.17, 127076.0, 155204.5, 218262.61, 238886.35, 185555.03, 169584.54, 183015.75, 165318.76, 163319.49, 118707.25, 129626.32, 119569.45, 133268.49, 128862.0, 116349.0, 369169.1, 208116.65, 299893.96, 171839.82, 181877.61, 173185.4, 177796.4, 300052.4, 241630.02, 269325.51, 219934.16, 196644.94, 156741.05, 149816.09, 225629.9, 118381.8, 139319.37, 214061.9, 168714.0, 120126.9, 120129.82, 146543.21, 172132.05, 151648.5, 160608.45, 160165.22, 172400.5, 118088.25, 177691.0, 168101.5, 196616.24, 137574.0, 168232.62, 135661.0, 140478.5, 135019.09, 132003.26, 144191.1, 139618.25, 125499.8, 118098.83, 122363.5, 115067.36, 168980.35, 135085.5, 93461.69, 132695.07, 80028.5, 114235.75, 128030.0, 154335.0, 54916.21, 107181.43, 77401.05, 198732.2, 155373.0, 142557.5, 140920.1, 147182.5, 112258.93, 133024.0, 117241.2, 115228.0, 127500.93, 124301.92, 156051.5, 159440.0, 140407.17, 136578.5, 113916.42, 176083.0, 120582.0, 128258.13, 141205.36, 121342.65, 129007.72, 118726.5, 95273.74, 64555.82, 98681.0, 126287.6, 137558.75, 115164.42, 69456.0, 121078.3, 161581.9, 68861.5, 130268.25, 121779.05, 103487.25, 107737.5, 136287.54, 116727.26, 162938.0, 179316.0, 128280.49, 158890.09, 131288.54, 160803.0, 137752.75, 97545.26, 141393.59, 73660.72, 168002.59, 151188.91, 93698.25, 144140.33, 136589.22, 141669.92, 158742.5, 145257.0, 58966.32, 120475.53, 134512.25, 151520.18, 131625.75, 132334.67, 169511.46, 147945.54, 210636.57, 133526.39, 144380.15, 120966.21, 156150.32, 120073.67, 294814.75, 294577.48, 294577.48, 319527.83, 336469.19, 251860.96, 319018.13, 205323.32, 252470.67, 241866.99, 170300.8, 224839.6, 136167.5, 203950.8, 197157.07, 207269.69, 210069.5, 137086.0, 135214.6, 237675.3, 256330.83, 200284.25, 225253.18, 263416.03, 311509.47, 197915.06, 282474.53, 159191.13, 129116.08, 142273.0, 112604.46, 142642.25, 131973.5, 154812.5, 128537.16, 124266.83, 102848.24, 124191.26, 141060.5, 165206.34, 155048.9, 248835.52, 136165.25, 184026.0, 145607.32, 221473.98, 109462.35, 131625.15, 124651.01, 189829.42, 239802.33, 122940.28, 75442.66, 312717.11, 78506.11, 256082.47, 136364.26, 158694.97, 148617.22, 419762.17, 324424.2, 196553.2, 233561.9, 221785.3, 379178.05, 139285.66, 161251.0, 127822.0, 116241.86, 138626.6, 137179.44, 163258.34, 188105.5, 178781.14, 190905.5, 184533.85, 170063.96, 244856.11, 198418.07, 178982.0, 193043.32, 192661.5, 311430.0, 367375.89, 181792.44, 310885.64, 178556.5, 247465.36, 180966.16, 295290.06, 250389.14, 161908.5, 204836.0, 132844.05, 306331.16, 171417.4, 313467.78, 139794.65, 117701.64, 119260.71, 94555.5, 97672.83, 115234.04, 151349.0, 152359.8, 281212.05, 408492.16, 382412.44, 459966.55, 437565.28, 362606.72, 263940.68, 311033.27, 465799.15, 268167.48, 350112.82, 369775.5, 341682.45, 195605.95, 339808.01, 238004.56, 213794.24, 170161.2, 202019.12, 215069.85, 175744.29, 175740.5, 190772.8, 221686.4, 217044.38, 216797.37, 168060.9, 266229.4, 186392.0, 247605.77, 319786.79, 347108.41, 249153.7, 299215.37, 243173.0, 236010.79, 257359.85, 264613.37, 236975.48, 222075.72, 247562.86, 198699.56, 184111.0, 187996.86, 151736.36, 182764.54, 178075.14, 186991.32, 192484.3, 193133.82, 202577.25, 116627.5, 114562.6, 125007.32, 112692.3, 178492.7, 146647.77, 223263.24, 344833.73, 177136.5, 147229.79666666666, 156445.32, 172497.0, 288742.32, 256782.1, 275406.17, 280001.13, 161554.65, 207118.85, 181138.4, 187094.9, 309488.37, 199774.97, 445041.86, 258648.92, 202680.37, 171503.5, 172414.05, 246149.5, 141266.26, 157167.72, 131176.49, 136084.75, 181779.65, 103780.0, 143834.0, 143151.0, 70280.22, 158284.0, 117920.93, 127078.0, 212421.62, 139800.0, 156417.0, 182299.24, 140806.5, 112213.11, 142579.1, 137965.83, 194856.7, 116712.8, 144792.35, 92134.76, 109875.0, 76447.54, 128811.96, 134411.92, 165507.92, 150037.75, 128828.0, 150197.0, 134208.83, 138373.25, 114575.5, 126746.33, 136772.0, 142165.64, 110061.16, 128498.55, 115354.83, 125047.27, 114318.64, 94119.0, 129973.25, 123349.59, 126989.26, 153103.87, 138681.95, 166197.25, 93790.5, 89024.0, 144026.34, 51220.85, 112159.16, 116892.85, 146025.0, 95570.0, 151779.37, 123469.17, 88297.86, 254330.59, 126324.5, 112284.38, 116035.51, 155397.9, 133965.26, 117181.83, 107994.16, 148535.34, 107212.58, 146639.67, 120311.12, 103950.3, 102289.54, 88767.5, 77397.98, 94662.0, 223030.95, 141038.33, 162281.32, 150819.0, 125650.78, 97066.0, 158089.36, 156476.5, 121060.58, 112495.3, 117449.83, 103755.79, 90958.5457142857, 117220.33, 141527.5, 158018.5, 133668.5, 136529.22, 141629.75, 139398.24, 133065.26, 129983.0, 153436.5, 162702.05, 127589.19, 138029.0, 246244.0, 127296.0, 179438.0, 162352.5, 118892.33, 125379.54, 230852.5, 234393.38, 236226.5, 207054.0, 166919.85, 261495.99, 495205.4, 343189.12, 246120.88, 177195.4, 145011.37, 200934.36, 210627.5, 193730.0, 219850.85, 148425.96, 142152.0, 149525.84, 237996.71, 317930.46, 337569.01, 264685.49, 219718.2, 145461.16666666666, 202232.8, 190601.49, 231281.76, 210505.27, 143639.25, 129014.44, 148561.24, 145347.0, 155048.0, 165517.76, 87728.75, 88208.75, 99545.0, 91599.86, 94177.93, 116506.82, 103865.12, 105920.75, 152675.45, 171144.0, 125126.49, 127282.19, 202748.05, 172714.82, 164254.5, 116743.3, 136784.1, 231154.33, 217036.0, 190406.92, 119926.51, 114689.08, 108801.73, 101913.0, 143290.34, 92435.35, 163589.0, 81853.27, 102319.82, 70163.0, 61453.09, 299433.81, 238195.16, 262047.5, 214889.75, 149111.76, 176678.23, 199338.97, 268844.14, 246161.55, 149792.84, 203667.95, 186658.37, 175558.65, 260290.68, 195545.04, 282971.26, 354283.56, 204348.45, 127121.15, 160654.4, 149718.04, 135351.1, 133474.52, 88632.61, 88866.11, 146550.59, 91561.93, 124174.83, 127535.0, 140684.5, 135906.18, 178991.0, 150630.54, 176075.72, 193064.0, 180267.15, 193251.23, 176756.75, 173443.9, 161441.0, 185457.17, 204063.12, 325226.39, 429840.68, 180596.0, 290297.93, 345888.83, 371273.91, 171068.24, 177383.21, 253562.3, 204071.56, 164390.37, 172989.32, 187481.0, 168150.91, 179720.0, 165582.0, 113873.49, 119619.12, 173054.84, 176946.54, 91575.0, 110579.28, 142972.4714285714, 131834.26, 332504.11, 268508.73, 386144.37, 438737.81, 314104.74, 400059.18, 492982.03, 434112.48, 452019.96, 311476.21, 297988.17, 309490.51, 386516.51, 322058.14, 257759.37, 238255.4, 247137.3, 250824.62, 188727.24, 190643.23, 187607.77, 217967.54, 282608.89, 218162.66, 192208.8, 179045.94, 175905.52, 170754.39, 171425.67, 181555.14, 176759.25, 173345.03, 177583.29, 186635.0, 248495.74, 164123.96, 187006.78, 167871.45, 224690.17, 165001.9, 216628.6, 219009.15, 185492.4, 176630.0, 352344.18, 437668.32, 321886.73, 265266.67, 254757.35, 336882.3, 215774.27, 277732.83, 235567.94, 379776.28, 219613.32, 252211.22, 216645.89, 235615.64, 249394.52, 219408.38, 193726.61, 224993.68, 150979.99, 268793.5, 235402.6, 250192.01, 205127.2, 129891.05, 152962.99, 154166.87, 206944.26, 197066.0, 123654.99, 117755.5, 135321.0, 277589.88, 142859.0, 152036.0, 220278.4, 187048.12, 221643.93, 203667.52, 216997.51, 172079.0, 174193.0, 187767.9, 254669.49, 304146.06, 257526.0, 260167.3, 338536.94, 131656.0, 200596.0, 142872.6, 163927.4, 172595.85, 215918.87, 225185.37, 150200.0, 146834.0, 133464.0, 104269.38, 129923.5, 143201.0, 134182.43, 111652.0, 165447.9, 148753.0, 190528.0, 149345.3, 199690.72, 113825.0, 75240.61, 62432.77, 112525.0, 136847.75, 131383.05, 145982.59, 150184.0, 134749.5, 132209.1, 138390.0, 124827.55, 164382.5, 128360.66, 157507.0, 138455.75, 133884.33, 138463.3, 137020.33, 125815.55, 117071.5, 135841.84, 124311.48, 147815.5, 128135.08, 117648.5, 139455.55, 174111.84, 124815.69, 123105.84, 165047.35, 120098.08, 132320.33, 121160.64, 132556.5, 138128.25, 144709.37, 149311.32, 105083.0, 114462.5, 127074.5, 110582.64, 132969.0, 109179.4, 100712.4, 104248.02, 118207.95, 95574.76, 110822.29, 222433.66, 149409.64, 115242.53, 161987.25, 116923.49, 216973.39, 99059.01, 108617.72, 106882.01, 147782.34, 116342.08, 109063.67, 113800.0, 143060.25, 116966.54, 115410.5, 117334.08, 155915.5, 140639.54, 130314.0, 153334.69, 96816.43, 104620.72, 195096.4, 220296.05, 189044.79, 119919.21, 117154.87, 237903.0, 115706.04, 134237.0, 167641.5, 125987.5, 124881.43, 133200.0, 131632.93, 118664.08, 121716.5, 124743.08, 152613.5, 173818.6, 149321.0, 149320.0, 141603.25, 96758.5, 183573.0, 140717.83, 181017.24, 110458.64, 208689.22, 146771.5, 113788.96, 93061.16, 128069.9, 140228.5, 151011.75, 113975.97, 193257.49, 210657.77, 262691.31, 333306.66, 262336.46, 220585.58, 231324.36, 182490.37, 211174.1, 217223.19, 224196.8, 151438.5, 158575.13, 130291.41, 137348.62, 228093.9, 206007.4, 192982.0, 221819.58, 136992.5, 141120.5, 144695.5, 146405.5, 117643.08, 126296.83, 129612.86, 105219.75, 251207.78, 232209.69, 200253.87, 259734.13, 309007.76, 227609.02, 225477.8, 188266.8, 187308.4, 172038.23, 178524.95, 140858.72, 127573.02, 136531.84, 133627.34, 145677.5, 141827.93, 149472.07, 158076.01, 356668.18, 142200.86, 114771.0, 88208.75, 114885.05, 101104.0, 100541.17, 117465.41, 178471.06, 139573.0, 118400.46, 133256.99666666667, 129800.29, 131537.21, 151341.0, 114437.84, 135805.34, 130736.0, 191210.14, 185435.24, 117897.51, 149149.89, 189435.17, 255487.78, 297642.52, 130240.5, 132836.13, 171415.74, 99019.8, 67845.21, 121723.0, 129388.5, 113554.5, 267492.17, 162279.69, 172070.1, 201473.86, 209468.24, 155453.25, 142897.1, 222509.11, 218174.98, 225945.58, 245622.83, 178528.01, 201539.11, 330224.06, 183806.45, 272272.61, 309587.66, 147017.98, 125434.0, 85455.0, 89749.11, 85380.0, 78486.0, 143209.0, 166841.96, 195477.29, 161505.8, 116552.0, 174351.0, 157341.22, 129339.5, 128208.83, 150943.5, 140030.0, 159634.24, 193432.0, 219392.76, 187262.0, 186707.85, 186831.0, 247793.04, 258249.68, 316001.54, 165532.0, 183431.42, 407350.66, 580250.91, 334582.35, 449243.32, 397472.81, 311646.36, 379582.36, 147874.0, 189469.35, 166360.0, 254531.56, 180029.5, 152129.0, 114326.0, 196039.14, 107922.54, 125957.0, 97688.0, 100701.0, 95750.0, 138153.0, 142366.0, 141831.3114285714, 150828.75, 437343.34, 262276.21, 250929.48, 384790.8, 317617.56, 320393.46, 262143.72, 299339.99, 325514.55, 346698.07, 359250.0, 285240.47, 274410.52, 320682.77, 291214.06, 170491.67, 175060.27, 172212.01, 282883.76, 177335.12, 185051.81, 203935.48, 196606.46, 164073.67, 187248.82, 205614.5, 269250.69, 287341.42, 275419.97, 431683.42, 326802.91, 505927.41, 301472.42, 339196.48, 264513.13, 337246.64, 229440.5, 214972.97, 464541.39, 182297.78, 133450.84, 192384.63, 136046.32, 186650.56, 185079.4, 193926.0, 199370.5, 180831.5, 167419.59, 153096.6, 121648.1, 145665.22, 143636.5, 131136.32, 120824.99, 126374.08, 140439.5, 119688.0, 127629.5, 276449.02, 364875.87, 170281.42, 150229.04777777777, 175201.4, 149412.63, 179756.7, 225321.15, 153816.33, 158795.66, 144746.43, 156808.21, 141169.5, 129166.0, 136830.0, 144411.5, 157637.5, 170035.0, 151818.82, 146328.09, 118251.83, 109960.34, 161616.0, 128910.42, 134087.0, 130893.78, 124829.0, 134505.17, 158194.0, 133090.5, 145244.5, 149696.0, 146581.0, 144000.5, 133529.75, 137634.25, 147362.08, 129122.26, 135178.5, 136678.43, 129510.83, 245788.86, 159792.5, 195099.94, 138008.75, 81573.33, 81045.04, 63554.38, 158340.32, 128652.95, 148320.5, 146621.0, 180066.0, 156961.05, 262791.99, 138380.16, 94279.78571428571, 130470.53, 135903.0, 157478.93, 119564.14, 124019.75, 125910.3, 140910.0, 136750.51, 154107.9, 153097.36, 127649.34666666666, 110041.27, 114136.1, 106359.1, 93742.65, 90557.91, 133091.2, 135179.01, 60826.76, 121280.68, 82393.76, 212014.15, 98073.54, 118588.85, 89682.51, 152629.35, 100409.0, 127290.58, 109944.0, 203927.2, 128685.64, 116263.79, 91327.0, 116302.1, 143606.37, 178521.9, 135663.6, 99859.0, 106755.5, 149554.2, 147521.05, 136876.0, 139747.0, 151460.61, 143715.5, 149758.84, 167576.83, 110936.02, 249548.01, 127996.0, 130780.43, 167092.7, 128277.42, 114058.0, 196905.07, 225330.56, 160505.55, 130845.68, 125314.78, 145223.0, 212471.24, 181798.96, 233305.97, 189990.59, 209977.98, 271513.05, 222282.29, 215591.83, 190428.25, 160706.0, 147663.64, 177700.17, 196093.5, 205860.25, 224189.5, 152243.25, 164523.0, 121291.83, 215854.37, 204614.75, 223808.68, 212848.42, 288559.76, 243637.62, 231899.78, 228669.5, 138638.75, 196015.8, 210798.2, 189141.8, 198330.15, 127298.98, 124833.0, 153757.18, 196903.78, 124669.5, 261250.64, 142273.0, 137188.7214285714, 78402.22, 131809.79, 127891.71, 169812.64, 107439.72, 50633.3, 110744.66, 151968.0, 125709.66333333334, 154628.75, 145921.52, 156003.5, 149239.0, 120088.5, 151875.8, 160728.59, 169527.9, 168920.58, 186343.55, 203623.8, 111420.8, 131574.5, 68991.22, 70755.5, 144426.5, 76738.72, 111409.75, 52467.66, 298142.4, 275960.49, 206367.48, 172214.55, 236525.8, 158987.48, 211765.46, 188559.82, 354260.01, 356779.79, 122690.86, 201584.86, 115180.57, 125137.83, 144646.67, 82221.5, 85090.0, 150568.97, 87183.0, 76946.0, 76648.0, 86180.0, 150829.85, 104595.0, 233320.38]\n"
          ],
          "name": "stdout"
        }
      ]
    },
    {
      "cell_type": "code",
      "metadata": {
        "id": "BBKoYkmANnMB"
      },
      "source": [
        "#this runs bayesian Ridge\r\n",
        "\r\n",
        "reg = linear_model.BayesianRidge()\r\n",
        "reg.fit(train_x, train_y)\r\n",
        "\r\n",
        "print(reg)\r\n",
        "\r\n",
        "y_pred = reg.predict(test_x)\r\n",
        "predictions = [value for value in y_pred]\r\n",
        "\r\n",
        "print(predictions)\r\n",
        "\r\n",
        "#get results and export them to a csv\r\n",
        "results = test.loc[:, ('Id')].copy()\r\n",
        "final = results.to_frame()\r\n",
        "final['SalePrice'] = predictions\r\n",
        "final.head()\r\n",
        "final.to_csv('results.csv')\r\n",
        "\r\n",
        "#SVR Score: 0.32992"
      ],
      "execution_count": null,
      "outputs": []
    },
    {
      "cell_type": "code",
      "metadata": {
        "colab": {
          "base_uri": "https://localhost:8080/"
        },
        "id": "chMyIMfwOXqk",
        "outputId": "f8a1e54c-6ec3-4845-b4a5-c6dcb373d2cf"
      },
      "source": [
        "#this runs svr\r\n",
        "\r\n",
        "regr = make_pipeline(StandardScaler(), SVR(C=1.0, epsilon=0.2))\r\n",
        "regr.fit(train_x, train_y)\r\n",
        "\r\n",
        "print(regr)\r\n",
        "\r\n",
        "y_pred = regr.predict(test_x)\r\n",
        "predictions = [value for value in y_pred]\r\n",
        "\r\n",
        "print(predictions)\r\n",
        "\r\n",
        "#get results and export them to a csv\r\n",
        "results = test.loc[:, ('Id')].copy()\r\n",
        "final = results.to_frame()\r\n",
        "final['SalePrice'] = predictions\r\n",
        "final.head()\r\n",
        "final.to_csv('results.csv')\r\n",
        "\r\n",
        "#SVR Score: 0.41620"
      ],
      "execution_count": 13,
      "outputs": [
        {
          "output_type": "stream",
          "text": [
            "Pipeline(memory=None,\n",
            "         steps=[('standardscaler',\n",
            "                 StandardScaler(copy=True, with_mean=True, with_std=True)),\n",
            "                ('svr',\n",
            "                 SVR(C=1.0, cache_size=200, coef0=0.0, degree=3, epsilon=0.2,\n",
            "                     gamma='scale', kernel='rbf', max_iter=-1, shrinking=True,\n",
            "                     tol=0.001, verbose=False))],\n",
            "         verbose=False)\n",
            "[162891.65893784232, 162964.7124632912, 163052.71752377605, 163074.20830286067, 163033.29422010723, 163072.89127807535, 163018.19668198586, 163060.41250672968, 163025.62090209962, 162914.51012893577, 163061.3383644192, 162962.75541373712, 162953.06347651445, 163014.89795896213, 162913.23516468, 163113.41712866066, 163103.3795996992, 163110.0466168473, 163105.21630647866, 163034.39456301212, 163149.07651536714, 163080.33958755835, 163037.6782566094, 163038.81782008772, 163054.38011936177, 163095.53512880253, 163100.236465123, 163104.59005607155, 163048.89469803436, 163062.9426969725, 163091.3727576072, 162872.93392213248, 163035.88097414328, 163117.03407758794, 163133.99004886113, 163068.5520957373, 163033.82993562447, 163023.34802704462, 163021.30885519023, 163021.0868472648, 163021.71060456373, 163006.4826651731, 163076.77021183443, 163118.0248220958, 163099.88802342012, 163043.40727030128, 163102.94683429756, 163043.44184839242, 163008.1336646833, 162990.84147706616, 162938.05003158087, 163005.84134617177, 163006.61806418802, 163005.66337670118, 163049.00710666276, 162978.83559490877, 162967.26899613524, 163001.26160873406, 163083.12813936383, 162908.01378533625, 162903.37399778515, 163018.9685824204, 162885.95532606993, 162923.33825295715, 162902.35212090044, 162919.1554102779, 162943.62692392193, 162944.01522747782, 162926.41197065788, 163010.7479682821, 162988.83756822598, 162933.33480314616, 162959.25232512134, 162916.00715230522, 162957.24536305995, 162943.58529246776, 162942.69300242263, 162994.17717847403, 163019.61835929673, 162998.32626713955, 162950.44926987196, 162949.55070785232, 163000.83479487852, 162865.7944926402, 162886.84894745404, 162978.53477336894, 162952.40917475606, 162921.4378951058, 162912.64784605996, 162965.86353659088, 162910.86899748375, 162992.50374152814, 162973.1357466437, 162951.97145982407, 163019.44023818796, 162945.134039305, 162970.70196798776, 162870.2400218094, 162988.18954583374, 162990.68566173562, 163000.43530709148, 162903.7695396743, 162894.07997668593, 162995.59820915293, 163000.44822591852, 163028.65680497934, 162886.73531716672, 163090.65825123093, 162989.79945696812, 162917.22120426345, 162908.31140205596, 162928.22898812042, 163036.50364785327, 162993.20834000886, 163035.15739562127, 163046.5146562685, 163054.62326879005, 162959.55000444382, 162946.8282314298, 163079.01651873183, 162954.33709172468, 162898.52803339605, 163112.64980824996, 163111.10877254696, 162963.73518751323, 162891.50028821794, 162876.8369835144, 162931.30024199316, 162885.93259885124, 162922.62546801488, 162921.50256676733, 162949.30060078696, 162908.3348513766, 163004.06928379135, 162974.36897652643, 163036.21163353685, 163019.6314192382, 163041.38606081175, 162992.4437555585, 163044.95370009367, 162888.78623912367, 162894.7837711106, 162911.1495977602, 163053.48454978853, 163129.8230965441, 163014.0365813916, 163021.28796235012, 163100.91729809175, 163041.14860812222, 163023.49754926108, 162964.4924141447, 163044.5644696719, 163051.38424964572, 162956.03619011975, 162955.39363120266, 162954.17223101825, 162918.15943102428, 162892.99266809493, 162943.49737714793, 163023.5040230384, 162968.28275209334, 162983.52487578767, 163037.19632698197, 163079.85910383938, 162882.77637897088, 163057.505087107, 163078.82701296982, 163121.19638068054, 163067.70267145094, 163062.03281987642, 163070.5194935693, 163082.6940242183, 163048.68841929556, 163084.64259321365, 163049.15741807502, 163030.86352715865, 163068.92578072217, 163091.51820429298, 163074.79492915169, 163102.29781694422, 163053.79777718752, 163112.18544711926, 163105.34303175256, 163106.77318320094, 163032.5356399239, 162997.9752478417, 163008.71427423507, 162954.52019411224, 162918.84656321688, 162907.00777873394, 162920.52358247273, 162952.42289552654, 162944.1153522589, 163029.45011706962, 162990.3713326295, 163018.20643111184, 163020.6729432624, 163022.59849902417, 162954.05374109064, 162986.70545390932, 163071.66583734678, 163123.03917764532, 163127.085368278, 163044.1419719371, 163122.01225606576, 163107.48208117337, 163097.88046576426, 163142.63683750655, 163115.3300497535, 163129.47891642788, 163118.33987761638, 163055.0247050096, 163130.88707040672, 163122.7334555324, 163067.6319366494, 163051.839581879, 163083.64382863598, 163047.97053725543, 163110.51790512525, 163119.5204488174, 163091.82580024758, 163122.58071441963, 163076.31765392888, 163082.04524766054, 163068.00300933747, 163049.93303609957, 163051.77360274136, 163107.1098078258, 163100.12731385118, 163076.86910953792, 163065.29254646125, 163111.00969732658, 163033.02682207993, 163066.36022863069, 163047.15204369274, 163119.07648656805, 163045.74026052555, 163117.69536263382, 163090.87165290053, 163084.37913191112, 163126.91489359844, 163113.12338381927, 163131.29181681768, 163122.20388632693, 163115.77381816178, 163061.70887417305, 163078.83415540672, 163094.91539710233, 163119.09427606725, 163104.5296059761, 163141.1673684089, 163104.4918915678, 163114.7526033013, 163091.91978359118, 163073.1726240895, 163042.50080542467, 163029.86065329693, 162969.359543493, 163089.2210131835, 163091.14675092444, 163041.51549163187, 162964.2457682759, 163012.80290973175, 163085.40101439378, 163113.90178256098, 163045.69640260906, 163020.64493189342, 163051.54561666984, 163004.4085427432, 163009.1612684385, 162903.13191348978, 162970.6984189918, 162884.50844821855, 162917.3570505695, 162909.19905482902, 162924.9946563669, 163054.56475402872, 163041.34112243727, 163087.2108746941, 163060.7433392016, 163030.38435820013, 163025.69368241815, 163045.20785805662, 163050.40986871973, 163027.29096021387, 163065.7692884685, 163078.44773696965, 163084.7600866258, 163010.23857975486, 162925.4590266753, 163064.81871964052, 162918.77994265012, 163001.45310583335, 163061.4137622839, 163010.13802375365, 162893.1067186405, 162858.28430377436, 162967.73222662907, 163006.41133492943, 163006.2170609241, 163001.43821570862, 163012.68966157536, 162987.8055969774, 162883.50651063718, 162990.4958680949, 163014.0292703416, 163048.78113070436, 162908.31440089465, 162988.6374690015, 162946.8035152907, 162943.72897374735, 162956.83189761755, 162960.34682869416, 163012.803633197, 162892.50808092405, 162883.79531763485, 162861.5694874294, 162908.11929351356, 162927.49199688446, 162990.98397878496, 162881.41331817486, 162870.37906738484, 162993.42379945182, 162901.0065840932, 162891.76121171686, 162995.62076515917, 162982.34782646224, 162932.09916172418, 162871.6819962877, 162916.1421358943, 163024.29450888655, 162952.09217684032, 162949.70323994462, 162940.14523245927, 162886.1674118384, 162890.19620786826, 162937.04261096942, 162881.73687479994, 162872.2263031359, 162882.30812087792, 162973.75269074412, 162949.18016557355, 163012.45491216218, 162931.2670008658, 162910.10989139215, 162909.38851156732, 162996.17658445425, 162934.0031986036, 162961.17267435242, 162946.56144341937, 162983.64944322247, 162945.49687586195, 162899.99976872146, 162880.1523695452, 162902.2791302163, 162868.61174912282, 162945.61803584176, 162984.94657209507, 162933.4189532982, 162938.64694224775, 162895.91671838317, 162980.47746665427, 162939.19561674874, 162937.37006016207, 162959.39927512148, 162885.42370429722, 162881.241796776, 162935.83833892745, 162991.97775497506, 162968.1915331501, 162977.35329088874, 162997.97256201156, 162966.4215195671, 162924.21870986122, 163003.3592169427, 162912.66422711764, 162931.67679448557, 162967.2315575247, 162939.28477655773, 163000.2467318917, 162984.2877530264, 162931.6827543189, 162975.32601590955, 162963.3128348267, 162991.18482854337, 162968.9583071613, 163006.36014003714, 162957.36108813644, 162911.22677721115, 162886.60814417843, 162932.77329408648, 162920.9777959179, 162956.5208905478, 162976.41629684577, 162973.87478822304, 163095.39458620484, 162974.50232868316, 163005.76741965226, 162980.34533678705, 163005.3923363823, 162979.8550120482, 163020.32223294955, 163020.32223294955, 163020.32223294955, 163091.08128407097, 163133.26692033978, 163118.81216571495, 163107.4498801724, 163077.16914654244, 163085.30407878433, 163122.0110197182, 163067.83722156903, 163106.71695692273, 162921.01979786623, 163058.0292824991, 163104.06146178005, 163070.6155891479, 163099.6847773714, 162888.48556551157, 162910.01352469335, 163088.02306716423, 163127.53190018306, 163074.3772314675, 163083.71417519185, 163089.69879101365, 163111.20974627364, 163085.35410650723, 163101.06774665558, 163060.68578802104, 162949.66988933756, 162972.91202111772, 162855.29818487162, 162923.30083931415, 162997.6385148401, 162935.54411328942, 162915.66810749372, 162946.7771005856, 162943.05780302483, 162945.11563693298, 162931.9253767457, 162966.5276522349, 162947.15142585413, 163019.36406214727, 162898.4369274236, 163026.68036518677, 162973.45991238995, 163033.4876117988, 162955.5407387102, 162984.81464672447, 162972.5897173041, 163067.40574648246, 163062.48897062623, 163023.2093266077, 162845.8067264413, 163055.47855256483, 162912.260629912, 163143.67836206424, 162935.70248488168, 163009.22208277739, 163034.12646631117, 163107.15881506482, 163103.80376007207, 163055.8136308802, 163079.2328210245, 163105.0629951367, 163111.36067227213, 162889.51598648145, 163027.9912826478, 162932.73638247827, 162963.73307777304, 162955.29059848958, 162967.60885968897, 163004.10975314872, 163071.0716870794, 163066.67778882495, 163064.02320735753, 163074.49970869522, 163030.51414182645, 163060.47828752035, 163044.6972422496, 163078.97377307044, 163051.0116542218, 163042.00752847389, 163121.14838993057, 163132.09665236014, 163000.21094862837, 163120.59525871382, 163008.86765586908, 163082.61093613636, 163022.18015659702, 163098.0046806208, 163046.02352105707, 163026.8270691392, 163094.13519816968, 162936.0038967522, 163036.89806886102, 163025.63451788126, 163083.86167911062, 163018.37354303716, 162860.66008881846, 162896.49756132337, 162969.69625388278, 162963.0330026474, 162975.40616097572, 163004.35673384593, 162971.14039356002, 163112.57867550006, 163077.38421532253, 163111.52656866965, 163115.15527207515, 163087.2949024102, 163138.24813084814, 163139.79313237668, 163151.07021061738, 163038.4042566044, 163123.0627069181, 163058.69281842335, 163122.36826938306, 163102.4448789343, 163069.9833358837, 163094.1778183964, 163087.45822948363, 163076.7798087533, 163050.23739478143, 163088.2635879751, 163091.45532968783, 163052.35443072472, 163083.67235864248, 163091.74747821214, 163108.18699604264, 163077.91634721187, 163105.1313163163, 163059.96592661573, 163113.51784217806, 163097.35282260805, 163051.90293058896, 163129.72205089347, 163090.49524452176, 163102.65446362415, 163112.22486144936, 163122.98299238566, 163118.7432200113, 163146.60908341059, 163137.3541303955, 163094.8618683331, 163098.4331732302, 163133.67818104618, 163067.80441411547, 163077.99291480068, 163103.08756747286, 162968.93869944918, 163045.9907935902, 163048.52059337197, 163043.8009099316, 163071.65405134181, 163076.89800008823, 163051.01034535898, 162901.59095668586, 162922.35343161537, 162919.18156248707, 162868.830907663, 163027.18393791164, 162984.91550061095, 163090.1585127807, 163111.3510646654, 163037.567926277, 163023.57478087538, 163025.30351152873, 163036.68258359956, 163095.69615868042, 163053.31182299278, 163071.82421601214, 163097.83881695717, 163031.52781712843, 163098.10380276619, 163068.5343654044, 163066.9824062118, 163083.7077626425, 163019.77155548657, 163049.1301891853, 163065.5777715304, 163103.96841156072, 163003.07155297266, 163037.17939319822, 163027.14363636248, 163001.97962800306, 162959.29141683303, 162930.1719503478, 163009.41398956196, 162990.83326648813, 162870.40314645917, 162917.22821159253, 162930.40591977822, 162858.61485055552, 162973.27398554442, 162961.83320136604, 162865.98811904507, 163087.52507713405, 162952.8020859564, 162982.98138350184, 163002.42149083278, 162882.62546913925, 162851.96440443222, 162929.21505847908, 162881.67483812865, 163034.746428357, 162998.31426073483, 163007.0940426689, 162875.49626762263, 162866.59941027628, 162884.03458696537, 163005.26598229987, 162967.79093826463, 163024.43141605306, 162933.91036267878, 162893.37142738438, 162957.45771899476, 162934.9107957004, 162937.19978415058, 162876.87236585142, 162893.1488660804, 163000.7563276497, 162932.27022725967, 162917.4553244348, 162890.21048258347, 162979.42086731314, 162918.76266239042, 162923.85280853036, 162860.9980997095, 162957.11236030966, 162988.4019084467, 162968.24799944917, 162922.26246849244, 162972.95794012095, 162997.60874069986, 162849.2791583793, 162951.9886513359, 162957.97168635612, 162895.29791675127, 162988.29580070163, 162996.43968883957, 162941.4751166093, 162881.6298920472, 162995.8462431288, 162968.16848993782, 162946.70584433043, 163034.46666739797, 162870.06392527447, 162887.34411975698, 162896.36811540235, 162952.976705146, 162944.27891014208, 162886.21828641935, 162939.64765307607, 162950.8543202565, 162907.17258924484, 162970.10003450734, 162957.15279442, 162872.8017375453, 162915.44920661906, 162869.30933763753, 162978.27153453618, 162894.28140512662, 163008.27879997162, 162990.48882981285, 163031.33866998224, 162989.18462222704, 162931.8530778464, 162888.6547748322, 162963.79485398004, 163015.48465414208, 162925.02275253163, 162923.46202684494, 162924.49051216696, 162898.54348651684, 162986.81528621542, 162903.68768662369, 162908.4615241432, 162978.7854060376, 162915.87150543713, 162974.24907342094, 162919.15846411767, 162937.60243100382, 162961.17610595733, 162914.1291323277, 162960.46910889333, 163025.978887031, 162945.73299537585, 162950.70222136873, 163073.19096682695, 162907.14719771143, 162980.3377337678, 162944.40135569585, 162927.60383942488, 162984.18608072432, 163060.8742088809, 163104.1086638765, 163099.74085292907, 163100.1728770756, 163068.1550435663, 163129.09406399308, 163057.55372317077, 163119.2614489542, 163103.55542425925, 163010.69465922832, 162939.32911830134, 163075.43501279104, 163065.75832624687, 163073.68110464557, 163094.2386263441, 162959.23093836516, 162959.00333258227, 162980.94283924217, 163125.1354348676, 163121.10494090366, 163110.06592733023, 163127.03852636385, 163122.08358443232, 162962.64024649083, 163038.8004714247, 163071.16314062793, 163088.9879447416, 163074.69653938778, 162898.81185959707, 162958.70324702925, 162983.2026342341, 162980.0857217762, 162984.65126715804, 163013.03640696878, 162965.60289821224, 162966.22530838347, 162945.06907272173, 162943.12361752815, 162955.15098201932, 162859.44527676696, 162872.93713748056, 162918.0318745512, 162962.17126318393, 163016.13750578644, 162895.43178500427, 162951.87152788418, 162983.6404183396, 162990.38657282153, 162987.3190662366, 162895.77085741196, 162950.92609921482, 163015.73385194526, 163063.8760643788, 163026.55141308962, 162958.804333383, 162889.7153711279, 162897.26891525352, 162925.9453948889, 162974.28567619473, 162872.0369517986, 162979.60553417075, 162903.70710174515, 162887.58608672183, 162867.50356200864, 162884.1789372744, 163057.80577310492, 163051.88922549263, 163062.4236618023, 163108.88584089102, 163010.45755717388, 163056.24798554307, 163064.77619774893, 163114.0791095616, 163096.37802757957, 163018.41131300764, 163095.03424446212, 163049.03702286835, 163042.9588866888, 163120.1726101925, 163058.10285537547, 163089.6692885412, 163084.1626709196, 163031.37268915502, 162957.8076758138, 163012.52608446058, 162989.98240534577, 162933.28948657194, 162967.06022905957, 162936.30953266373, 162933.72516192117, 162903.84317657084, 162979.41695423741, 162940.50739351186, 162895.35669169447, 162905.9352453858, 162974.76195016323, 163048.45177547698, 163031.86134980535, 163054.7269739571, 163079.51202171796, 163048.30742452343, 163101.30049142265, 163022.54015825878, 163076.8985499675, 162982.54245571498, 163035.0952599951, 163008.71843914484, 163126.53062441727, 163062.68130924832, 163017.8680851686, 163103.9200981773, 163047.43314009093, 163131.3499018331, 162991.5104318791, 163065.4196368984, 163072.25812781966, 163092.2511590459, 163016.1443530976, 163062.82690140075, 163012.40196309894, 163021.3558968652, 163068.09961655346, 162972.57712818752, 162905.02217598775, 162865.9557079772, 163056.19808079745, 163046.369382299, 162963.3011994973, 162971.94328839864, 162950.01134005503, 162888.93641348596, 163139.28196401804, 163123.8794060914, 163101.20113584056, 163108.463147195, 163119.67232610975, 163108.13029301047, 163074.02589294213, 163114.18258985228, 163047.96426596993, 163076.3321135026, 163137.51924311847, 163118.34182140013, 163087.96928633738, 163116.95271477732, 163132.13588224776, 163113.5206967013, 163097.1968044766, 163113.322826532, 163038.5362178575, 163035.47475716105, 163073.40667026571, 163101.85509679728, 163111.98556494396, 163083.3088467506, 163078.27450293014, 163067.2047553765, 163072.8709476348, 163040.6952134561, 163073.22758274042, 163080.30364444124, 163045.62516235493, 163055.52583161002, 163070.88173699152, 163046.3062338841, 163093.82817501333, 163065.68395581673, 163015.15584483082, 163066.3742143748, 163098.9835615727, 163051.4619032105, 163109.85572492323, 163101.77950854396, 163087.0934437074, 163084.81654996672, 163123.52701513466, 163129.56149057153, 163123.08599183473, 163137.42949283734, 163132.93501869836, 163121.78086431551, 163068.42622861947, 163130.81771156832, 163103.58693128367, 163069.70819389008, 163079.35798261128, 163100.0747471433, 163120.3601417442, 163121.8520994037, 163118.6609442737, 163083.1707085287, 163075.8639479835, 163115.59843119964, 163057.47804100355, 163122.89680308753, 163088.55046892544, 163108.00090906362, 163134.5100164033, 162976.0449896447, 162977.85366682115, 162974.43925148816, 163087.402888584, 163068.5017195746, 162987.3324906364, 162892.54432266255, 162944.8587143446, 163108.4413781245, 162921.6535115612, 162989.46111115156, 163093.35250952066, 163045.13082215656, 163066.96448568688, 163065.65904676428, 163078.62788042278, 163047.84290322347, 163026.78262808247, 163069.98643321102, 163110.66236526042, 163114.20640748437, 163032.66829669752, 163077.02195643698, 163066.1506620186, 162973.7506315342, 163085.74203243156, 162943.4828832884, 163008.3883405848, 163057.1622601722, 163087.3214482329, 163132.22422487673, 162991.0852857944, 162928.87773788438, 162906.0209952771, 162974.8923968119, 162914.77330071034, 162927.4462421144, 162933.62771445367, 162878.3459767209, 163003.13971674602, 162958.786674462, 163070.19411866955, 162967.49668592762, 163019.06973832537, 162917.5664993203, 162963.87210782888, 162921.11614628346, 162882.87706548168, 162893.61232921455, 163014.1825285377, 162985.51125250763, 162972.86009220668, 162904.41384313355, 162896.74834678124, 162932.00234626053, 162910.50231127988, 163026.33087540057, 162868.74141941112, 162953.85149985278, 162895.0259757975, 162929.9948020361, 163001.79398481356, 162881.96051582563, 162926.7938636179, 162898.12486336293, 162929.95900326408, 162923.25494217733, 162934.53937358863, 162953.37505711272, 162959.92166279216, 162974.6809704002, 163026.47484768482, 162953.596765082, 162962.4217123285, 163024.42597595387, 162925.9665827154, 162892.93714272222, 162959.1117266297, 162907.9110387624, 162942.87268153558, 162919.2659777898, 162966.3357318265, 162873.06098567406, 162876.61570332, 162920.57799277862, 162888.31902636783, 162903.57971347953, 162902.19593218248, 162881.99426398549, 162931.28290206357, 162940.0679047314, 162855.47776688467, 162964.4984685735, 163015.2720908008, 162979.5378224203, 162906.36257041985, 162982.59427936462, 162938.78248039502, 163016.2279026773, 162857.45056762118, 162946.66684215507, 162906.920444003, 162894.4906332119, 162926.2795344181, 162939.47923517777, 162861.15900941798, 162965.1253994563, 162898.83457746363, 162915.3120755655, 162879.39446048278, 163026.87542033553, 162922.697153453, 162917.81348011043, 162972.8247242887, 162904.2877041685, 162898.48065068122, 163063.19114308196, 163021.80130804324, 162992.18077652444, 162950.4695504428, 162971.79080878035, 163037.1556542063, 162920.71702384856, 162949.67915887875, 162988.0123586101, 162912.0622329169, 162979.41861839365, 162935.84432774133, 162946.7709163181, 162880.448847807, 162919.84775477543, 162889.15763401092, 162954.7445315287, 163020.33267136864, 162966.0401649058, 162974.40005984195, 162966.410474524, 162892.57362526297, 163031.7997925389, 162973.42437529992, 162989.8946324766, 162861.45290099795, 163066.4786275471, 162950.15361656054, 162921.17457143316, 162886.243541857, 162940.73413554518, 162915.3366097374, 162947.96925681055, 162918.43409407948, 163008.8647410911, 163120.21773002835, 163130.06882556973, 163092.29070262105, 163130.07602273376, 163114.01896425048, 163122.8789669675, 163061.00857508366, 163106.23438098785, 163094.23445196016, 163012.48781631983, 162977.72590289704, 163035.79855993768, 162924.8214815702, 162966.11540158524, 163121.62000694365, 163101.0248728241, 163080.36794040448, 163111.69752937497, 162899.36596393934, 162973.38500930282, 162966.4027249828, 162951.35439705706, 162902.4176597535, 162899.08972950373, 162935.80223069253, 162945.84259349704, 163084.5826312109, 163125.05526209323, 163099.06338607962, 163106.3466677372, 163115.65706219096, 163112.77623720962, 163049.453099302, 163075.1985363556, 163045.94505803534, 163061.63987372135, 163091.34980335247, 163037.26187706957, 162941.2114229514, 162877.62002368452, 162918.7402055454, 162936.7001126512, 162969.02416194612, 163011.9241534934, 163037.24983234302, 163008.8686484606, 162973.51649062254, 162908.45399767804, 162975.29042778932, 162975.7394840505, 162896.46840477444, 162885.87980659187, 162899.40788417024, 163008.84521461304, 162892.36145236637, 162962.72552634042, 162917.7302949694, 162908.08750457346, 162919.76312577835, 163034.72446059485, 162944.99138157177, 162983.58903664508, 162953.96629148253, 163008.12685127353, 163012.06832927, 162958.149713381, 163042.4299527497, 162975.97540961194, 163062.83512704918, 163045.42926072745, 162902.57605109827, 162953.7585161696, 162966.31790011187, 162859.7049269354, 162897.67025639664, 162991.9907062724, 163000.99468464367, 162913.76931896585, 163048.22984899182, 162990.23982790337, 163082.01154889632, 163037.624731863, 163063.54820928766, 162983.67501002754, 162951.49089409318, 163069.2715445505, 163025.4086568809, 163087.4562467174, 163100.39806897627, 163013.04737085986, 163046.79183695352, 163087.16828485997, 163067.45198284273, 163102.42964355505, 163116.4570728814, 163011.06124341508, 162974.63277970676, 162924.95550001532, 162925.67334944662, 162948.73879054366, 162944.23106131257, 162964.7980278453, 163010.79885730657, 163037.4329029263, 162987.59064413208, 162959.23323052665, 162968.94597029564, 162974.67436275558, 162904.8334276105, 162943.49476105536, 162969.02944287733, 162939.82952663483, 163030.22727258495, 163017.70099710126, 163067.0249387055, 163065.7578221557, 163057.84004129036, 163090.17235948046, 163112.975748782, 163131.54565804199, 163062.9536655725, 163010.49834530984, 163033.7934353913, 163093.70294178827, 163060.94498121607, 163127.93933082023, 163088.97015766558, 163090.7159041069, 163113.76885496368, 163110.38538078163, 162969.0396271019, 163093.27866290743, 163001.86843279333, 163104.41587582362, 163074.29706337687, 162999.5015102769, 162948.2195077019, 163044.37967298142, 162981.8432782001, 162980.43957160116, 162946.47014099505, 162949.8757549984, 162976.35427183894, 162989.61670249703, 162941.5929441004, 162950.3786007961, 163022.68378703797, 163110.53495874532, 163099.95575131278, 163096.36715503802, 163090.69245507638, 163121.50984082025, 163140.3341570767, 163137.39910938186, 163123.2408286902, 163147.74809734678, 163106.69780424252, 163097.4886426793, 163127.8880545735, 163104.78104325416, 163104.44444924037, 163102.8555207659, 163062.39388942745, 163071.52262401237, 163048.0227728979, 163137.18076640944, 163075.95169782266, 163066.12437900246, 163057.61576715912, 163069.81053625123, 163035.5817456211, 163098.28815401706, 163075.5133836946, 163096.30186214342, 163125.92842232046, 163145.67363992703, 163075.4230736897, 163101.45326303883, 163027.54970540103, 163123.7588469345, 163096.01856461118, 163129.56123463088, 163062.5311233559, 163090.39446218003, 163061.54691323082, 163063.9530105528, 163071.30296116532, 162974.01246134882, 163083.6692657438, 162972.6364692916, 163102.0889260619, 163081.68179023644, 163095.4175226553, 163066.97523351526, 163026.14079869582, 163009.20812248497, 163017.2366104769, 162932.34565811927, 162995.15163727303, 162957.84614644255, 162880.7935973342, 162907.78341369258, 162925.96893381063, 162911.56690849367, 162924.37773279342, 162895.47175430338, 163011.97226189877, 163055.4604431144, 163032.24241330443, 163025.323701162, 163021.8505508206, 163010.08926087353, 163042.4990606925, 163084.84326005416, 163000.57692635458, 163014.7679217292, 162920.42101241677, 163000.8330068637, 162959.8968745347, 162892.4899933643, 162921.4153377665, 162922.1559366103, 163014.20521431867, 162991.67013988554, 162972.45341762112, 162902.98042713138, 162900.67432616657, 162891.5159365557, 162979.6120269264, 162975.42230298644, 162908.77204450028, 162967.46276910685, 162881.08425257186, 163003.52788094548, 162992.5566684477, 162936.59008231154, 162941.1200743037, 163001.8463375223, 162948.84560135394, 162972.4390506649, 162925.14851622537, 162929.15860162888, 162964.33099318913, 162906.4385144039, 162885.6832205692, 162911.42603882574, 162883.73764816017, 163033.16733382613, 162979.4022123463, 163024.01871231012, 162944.7144707683, 162908.67647103537, 162906.29264706172, 162899.74146043774, 162966.27612707848, 162975.3569122694, 162984.1852668358, 162980.85059272262, 163070.64969874814, 162974.51342919926, 163064.857906187, 162930.73264828871, 162962.18299464846, 162988.40390302148, 162898.29148725048, 162937.01795715737, 162926.27347181475, 162959.5774560442, 162999.614039731, 162920.9424607061, 162943.7878047302, 162962.9126380161, 162954.66138704165, 162917.60918463027, 162986.18241074335, 162874.2996128858, 162871.94230800046, 162863.90436313683, 162891.12089892264, 162930.28471715414, 162972.95410720422, 162888.43818348684, 162892.7614285711, 162871.48831146964, 163033.89860690586, 162988.88474442821, 162906.33171105818, 162943.1264508743, 162965.11749003694, 162884.6243965076, 162895.54739279504, 162869.4608584305, 163053.5201168657, 162937.58237169994, 162917.975138333, 162924.1922026873, 162883.55350621053, 162911.27515278495, 163021.61173353007, 162950.59834358122, 162886.3669019245, 162910.7718772748, 162992.72494440322, 162983.06399022258, 162931.8905960898, 162900.40128180356, 163004.78692732932, 162973.15995672107, 163015.57256385149, 163016.99999629488, 162888.69751061092, 163025.38022400194, 162957.3038805012, 162903.10451762608, 163013.53732083167, 162952.2341241112, 162929.42106481356, 163028.70692352453, 163027.17366322625, 163019.79674250522, 162983.85487631217, 162954.8800580064, 162958.9307120492, 163087.58374259179, 163020.81750607686, 163107.05827747882, 163051.0175079109, 163084.22572442362, 163115.7063162585, 163108.25029387933, 163103.72140364937, 163083.6970756288, 163024.92019916803, 162971.47311610164, 163072.28815367047, 163055.1106089998, 163089.0293860561, 163112.02033095938, 162974.80986953247, 163014.7149719278, 162881.24794453662, 163080.9635901304, 163099.26696968533, 163043.9869282545, 163097.91964737055, 163146.6832481421, 163106.34266002913, 163079.94515482523, 163117.00099396327, 162962.10907358435, 163067.05327026822, 163094.93380922513, 163074.67888220598, 163066.18664405865, 162958.07325131635, 163005.6620764271, 162937.98892586012, 163118.78887862025, 162948.98021932604, 163094.2385749581, 162980.56457597774, 163049.12417253546, 162859.31401834544, 162960.90607237633, 162944.06108470535, 162994.02195988415, 162942.87471675844, 162918.07252828195, 162892.73913407215, 162930.44482563814, 162932.855406712, 162989.29437315773, 162905.63015538853, 162965.1129772731, 162968.68151769016, 162904.90255461074, 162981.46721983448, 162940.48833279015, 162997.5652665016, 163025.96913061698, 162986.0556871513, 163032.82901732004, 162872.9720525721, 162945.05633242705, 162924.01548808365, 162863.33989647185, 162976.34547077838, 162930.07270365529, 162982.26624336117, 162924.9335189388, 163063.75094903473, 163048.09188157844, 163035.6838750321, 163020.7408017394, 163091.55233429375, 163001.18313164223, 163004.3815881793, 163034.44834499736, 163115.56232704103, 163108.91028071966, 162953.43669067757, 163032.2370154952, 162949.73897273958, 162920.51397299374, 163016.29451758886, 162952.8703667501, 162929.30686753112, 162965.57822652103, 162935.271269671, 162949.7162481802, 162949.46259270585, 162926.3481879177, 163007.64749921468, 162966.7867846564, 163121.43169686873]\n"
          ],
          "name": "stdout"
        }
      ]
    },
    {
      "cell_type": "code",
      "metadata": {
        "id": "Ljp_msXm-8Ss"
      },
      "source": [
        "#Code for visualizatinon\r\n",
        "SVR = 29\r\n",
        "XGB = 21\r\n",
        "RFR = 11\r\n",
        "\r\n"
      ],
      "execution_count": null,
      "outputs": []
    }
  ]
}